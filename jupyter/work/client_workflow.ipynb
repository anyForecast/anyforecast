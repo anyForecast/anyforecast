{
 "cells": [
  {
   "cell_type": "code",
   "execution_count": 1,
   "id": "2ae566a9-b6bf-4b8e-9a07-52359d5d2b2f",
   "metadata": {},
   "outputs": [],
   "source": [
    "# Add client package to sys path\n",
    "\n",
    "CLIENT_PATH = '/home/jovyan/client'\n",
    "\n",
    "import sys\n",
    "\n",
    "if CLIENT_PATH not in sys.path:\n",
    "    sys.path.append(CLIENT_PATH)"
   ]
  },
  {
   "cell_type": "code",
   "execution_count": 2,
   "id": "9c473aa8-48a5-440f-ba00-71eaa3b07c6b",
   "metadata": {},
   "outputs": [],
   "source": [
    "%load_ext autoreload\n",
    "%autoreload 2"
   ]
  },
  {
   "cell_type": "markdown",
   "id": "dac8422e-177d-4792-971a-0d7e291e7aab",
   "metadata": {},
   "source": [
    "# Sample dataset"
   ]
  },
  {
   "cell_type": "code",
   "execution_count": 3,
   "id": "8c210396-3f99-4774-ace2-94f1719a88ef",
   "metadata": {},
   "outputs": [],
   "source": [
    "import pandas as pd"
   ]
  },
  {
   "cell_type": "code",
   "execution_count": 4,
   "id": "757ec837-a4c2-4762-abf2-2eb9b1f1170b",
   "metadata": {},
   "outputs": [],
   "source": [
    "schema = {\n",
    "    'Features': [\n",
    "        {\n",
    "            'FeatureName': 'target',\n",
    "            'FeatureType': 'float'\n",
    "        },\n",
    "        {\n",
    "            'FeatureName': 'group_id_0',\n",
    "            'FeatureType': 'string'\n",
    "        },\n",
    "        {\n",
    "            'FeatureName': 'group_id_1',\n",
    "            'FeatureType': 'string'\n",
    "        },\n",
    "        {\n",
    "            'FeatureName': 'timestamp',\n",
    "            'FeatureType': 'timestamp'\n",
    "        }\n",
    "    ]\n",
    "}"
   ]
  },
  {
   "cell_type": "code",
   "execution_count": 5,
   "id": "87e8167b-cfeb-4075-ae54-4b2a11b71e99",
   "metadata": {},
   "outputs": [],
   "source": [
    "df = pd.read_csv('data/target.csv')\n",
    "df = df.rename(\n",
    "    columns={\n",
    "        'store': 'group_id_0',\n",
    "        'item': 'group_id_1', \n",
    "        'date': 'timestamp', \n",
    "        'sales': 'target'\n",
    "    }\n",
    ")"
   ]
  },
  {
   "cell_type": "code",
   "execution_count": 7,
   "id": "9fba845e-9857-4551-b72d-c711cc119fd9",
   "metadata": {},
   "outputs": [],
   "source": [
    "dtypes = {\n",
    "    'target': float,\n",
    "    'group_id_0': str,\n",
    "    'group_id_1': str,\n",
    "}\n",
    "df = df.astype(dtypes)\n",
    "df['timestamp'] = pd.to_datetime(df['timestamp'])"
   ]
  },
  {
   "cell_type": "markdown",
   "id": "dbfc5ce0-c025-447a-ad36-90e5cbff0201",
   "metadata": {},
   "source": [
    "# Create session instance"
   ]
  },
  {
   "cell_type": "code",
   "execution_count": 3,
   "id": "fe8a7f28-5f08-4f37-9b68-60e8276a43b8",
   "metadata": {},
   "outputs": [],
   "source": [
    "# The `session` instance allows us to create clients for any available service.\n",
    "\n",
    "from client.session import Session\n",
    "\n",
    "session = Session()"
   ]
  },
  {
   "cell_type": "code",
   "execution_count": 4,
   "id": "6c79902a-3679-42ad-8b18-9da73b08d475",
   "metadata": {},
   "outputs": [
    {
     "data": {
      "text/plain": [
       "['minio', 'forecast']"
      ]
     },
     "execution_count": 4,
     "metadata": {},
     "output_type": "execute_result"
    }
   ],
   "source": [
    "# List available services\n",
    "\n",
    "session.get_available_services()"
   ]
  },
  {
   "cell_type": "markdown",
   "id": "3565a4d3-4b8f-4ec6-99bf-6db3de1a0369",
   "metadata": {},
   "source": [
    "# Minio client\n",
    "\n",
    "Minio client allows to write datasets in cloud buckets for later use with the ***forecast*** service."
   ]
  },
  {
   "cell_type": "code",
   "execution_count": 5,
   "id": "5514ccb2-66ae-4520-bc1d-7b0f328e95b6",
   "metadata": {},
   "outputs": [],
   "source": [
    "minio_client = session.create_client(\n",
    "    service_name='minio', \n",
    "    is_secure=False, \n",
    "    access_key_id='oxxo', \n",
    "    secret_access_key='password'\n",
    ")"
   ]
  },
  {
   "cell_type": "code",
   "execution_count": 18,
   "id": "d4ecaf92-b88d-43af-a4b6-29e70ed307e1",
   "metadata": {},
   "outputs": [],
   "source": [
    "# Write dataset to minio bucket.\n",
    "\n",
    "minio_client.create_dataset(df, schema, dataset_type='target', name='sample')"
   ]
  },
  {
   "cell_type": "markdown",
   "id": "3f8cf7dd-407c-4d5c-9cb0-b6f966f1a988",
   "metadata": {},
   "source": [
    "# Forecast client"
   ]
  },
  {
   "cell_type": "code",
   "execution_count": 15,
   "id": "1b8aff55-b14f-4621-92b6-e0592c8e1c2b",
   "metadata": {},
   "outputs": [],
   "source": [
    "forecast_client = session.create_client(\n",
    "    service_name='forecast', \n",
    "    access_key_id='oxxo', \n",
    "    secret_access_key='password'\n",
    ")"
   ]
  },
  {
   "cell_type": "code",
   "execution_count": 16,
   "id": "4d97f68f-fc8e-465f-926f-46c3624b9331",
   "metadata": {},
   "outputs": [],
   "source": [
    "predictor_config = {\n",
    "    'name': 'sample',\n",
    "    'algorithm': 'seq2seq',\n",
    "    'forecast_horizon': 10,\n",
    "    'perform_hpo': False,\n",
    "    'bucket_name': 'sample',\n",
    "    'minio_host': minio_client.endpoint.host,\n",
    "}\n",
    "\n",
    "http = forecast_client.create_predictor(**predictor_config)"
   ]
  },
  {
   "cell_type": "code",
   "execution_count": 17,
   "id": "22429403-073e-4938-8628-1a17507e25d8",
   "metadata": {},
   "outputs": [
    {
     "data": {
      "text/plain": [
       "{'service': {'name': 'sample',\n",
       "  'algorithm': 'seq2seq',\n",
       "  'perform_hpo': False,\n",
       "  'bucket_name': 'sample',\n",
       "  'minio_host': 'http://minio:9000/'},\n",
       " 'credentials': {'access_key': 'oxxo',\n",
       "  'secret_key': 'password',\n",
       "  'token': None}}"
      ]
     },
     "execution_count": 17,
     "metadata": {},
     "output_type": "execute_result"
    }
   ],
   "source": [
    "http"
   ]
  }
 ],
 "metadata": {
  "kernelspec": {
   "display_name": "Python 3 (ipykernel)",
   "language": "python",
   "name": "python3"
  },
  "language_info": {
   "codemirror_mode": {
    "name": "ipython",
    "version": 3
   },
   "file_extension": ".py",
   "mimetype": "text/x-python",
   "name": "python",
   "nbconvert_exporter": "python",
   "pygments_lexer": "ipython3",
   "version": "3.9.10"
  }
 },
 "nbformat": 4,
 "nbformat_minor": 5
}
