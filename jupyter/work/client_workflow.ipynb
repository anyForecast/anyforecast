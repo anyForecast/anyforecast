{
 "cells": [
  {
   "cell_type": "code",
   "execution_count": 1,
   "id": "2ae566a9-b6bf-4b8e-9a07-52359d5d2b2f",
   "metadata": {},
   "outputs": [],
   "source": [
    "# Add client package to sys path\n",
    "\n",
    "CLIENT_PATH = '/home/jovyan/client'\n",
    "\n",
    "import sys\n",
    "\n",
    "if CLIENT_PATH not in sys.path:\n",
    "    sys.path.append(CLIENT_PATH)"
   ]
  },
  {
   "cell_type": "code",
   "execution_count": 2,
   "id": "8b15c897-cd79-49ee-838f-3843569fdb8b",
   "metadata": {},
   "outputs": [],
   "source": [
    "# Add mlapi/mlapi package to sys path for being able to load mlflow models.\n",
    "\n",
    "MLAPI_PATH = '/home/jovyan/mlapi/mlapi'\n",
    "\n",
    "import sys\n",
    "\n",
    "if MLAPI_PATH not in sys.path:\n",
    "    sys.path.append(MLAPI_PATH)"
   ]
  },
  {
   "cell_type": "code",
   "execution_count": 3,
   "id": "9c473aa8-48a5-440f-ba00-71eaa3b07c6b",
   "metadata": {},
   "outputs": [],
   "source": [
    "%load_ext autoreload\n",
    "%autoreload 2"
   ]
  },
  {
   "cell_type": "code",
   "execution_count": 4,
   "id": "38904dcf-4a06-4604-9393-ff2a4fd1cbeb",
   "metadata": {},
   "outputs": [],
   "source": [
    "import numpy as np"
   ]
  },
  {
   "cell_type": "markdown",
   "id": "dac8422e-177d-4792-971a-0d7e291e7aab",
   "metadata": {},
   "source": [
    "# Sample dataset"
   ]
  },
  {
   "cell_type": "code",
   "execution_count": 5,
   "id": "8c210396-3f99-4774-ace2-94f1719a88ef",
   "metadata": {},
   "outputs": [],
   "source": [
    "import pandas as pd"
   ]
  },
  {
   "cell_type": "code",
   "execution_count": 6,
   "id": "757ec837-a4c2-4762-abf2-2eb9b1f1170b",
   "metadata": {},
   "outputs": [],
   "source": [
    "schema = {\n",
    "    'Features': [\n",
    "        {\n",
    "            'FeatureName': 'target',\n",
    "            'FeatureType': 'float'\n",
    "        },\n",
    "        {\n",
    "            'FeatureName': 'group_id__0',\n",
    "            'FeatureType': 'string'\n",
    "        },\n",
    "        {\n",
    "            'FeatureName': 'group_id__1',\n",
    "            'FeatureType': 'string'\n",
    "        },\n",
    "        {\n",
    "            'FeatureName': 'timestamp',\n",
    "            'FeatureType': 'timestamp'\n",
    "        }\n",
    "    ]\n",
    "}"
   ]
  },
  {
   "cell_type": "code",
   "execution_count": 7,
   "id": "87e8167b-cfeb-4075-ae54-4b2a11b71e99",
   "metadata": {},
   "outputs": [],
   "source": [
    "df = pd.read_csv('data/target.csv')\n",
    "df = df.rename(\n",
    "    columns={\n",
    "        'store': 'group_id__0',\n",
    "        'item': 'group_id__1', \n",
    "        'date': 'timestamp', \n",
    "        'sales': 'target'\n",
    "    }\n",
    ")"
   ]
  },
  {
   "cell_type": "code",
   "execution_count": 8,
   "id": "9fba845e-9857-4551-b72d-c711cc119fd9",
   "metadata": {},
   "outputs": [],
   "source": [
    "dtypes = {\n",
    "    'target': float,\n",
    "    'group_id__0': str,\n",
    "    'group_id__1': str,\n",
    "}\n",
    "df = df.astype(dtypes)\n",
    "df['timestamp'] = pd.to_datetime(df['timestamp'])"
   ]
  },
  {
   "cell_type": "markdown",
   "id": "0a7b078f-da38-4f3f-b1a9-f90719c1d807",
   "metadata": {},
   "source": [
    "# Train-test split"
   ]
  },
  {
   "cell_type": "code",
   "execution_count": 9,
   "id": "a2d9c578-6356-4ef1-843d-83876e0cd9d6",
   "metadata": {},
   "outputs": [],
   "source": [
    "from mooncake.model_selection import train_test_split"
   ]
  },
  {
   "cell_type": "code",
   "execution_count": 10,
   "id": "419816c9-93ff-4245-afa4-0b229880681e",
   "metadata": {},
   "outputs": [],
   "source": [
    "# Split configuration\n",
    "\n",
    "test_start = '2017-09-01'\n",
    "test_end = '2017-12-01'\n",
    "date_column='timestamp'\n",
    "freq='W'\n",
    "sequence_length=5\n",
    "\n",
    "\n",
    "# Split\n",
    "\n",
    "X_train, X_test = train_test_split(\n",
    "    df, test_start, test_end, date_column, \n",
    "    freq, sequence_length=sequence_length)"
   ]
  },
  {
   "cell_type": "markdown",
   "id": "dbfc5ce0-c025-447a-ad36-90e5cbff0201",
   "metadata": {},
   "source": [
    "# Create session instance"
   ]
  },
  {
   "cell_type": "code",
   "execution_count": 11,
   "id": "fe8a7f28-5f08-4f37-9b68-60e8276a43b8",
   "metadata": {},
   "outputs": [],
   "source": [
    "# The `session` instance allows us to create clients for any available service.\n",
    "\n",
    "from client.session import Session\n",
    "\n",
    "session = Session()"
   ]
  },
  {
   "cell_type": "code",
   "execution_count": 12,
   "id": "6c79902a-3679-42ad-8b18-9da73b08d475",
   "metadata": {},
   "outputs": [
    {
     "data": {
      "text/plain": [
       "['minio', 'forecast', 'login']"
      ]
     },
     "execution_count": 12,
     "metadata": {},
     "output_type": "execute_result"
    }
   ],
   "source": [
    "# List available services\n",
    "\n",
    "session.get_available_services()"
   ]
  },
  {
   "cell_type": "markdown",
   "id": "0e239e3c-d8bd-42d8-a431-daa8c424c63e",
   "metadata": {},
   "source": [
    "# Login service"
   ]
  },
  {
   "cell_type": "code",
   "execution_count": 13,
   "id": "d9c49e2e-f841-4dd1-9ba3-168167e9e30d",
   "metadata": {},
   "outputs": [],
   "source": [
    "login_client = session.create_client(\n",
    "    service_name='login'\n",
    ")"
   ]
  },
  {
   "cell_type": "code",
   "execution_count": 14,
   "id": "760abcac-5d67-4674-8bdc-e3c49e03501e",
   "metadata": {},
   "outputs": [
    {
     "name": "stdin",
     "output_type": "stream",
     "text": [
      "Username:  johndoe\n",
      "Password:  ······\n"
     ]
    }
   ],
   "source": [
    "login_response = login_client.login()"
   ]
  },
  {
   "cell_type": "code",
   "execution_count": 15,
   "id": "e5c30908-385f-4178-b9fb-7e63772b35b3",
   "metadata": {},
   "outputs": [],
   "source": [
    "# Collect access token from login response.\n",
    "\n",
    "access_token = login_response.json()['access_token']"
   ]
  },
  {
   "cell_type": "code",
   "execution_count": 16,
   "id": "2b358bd6-c1aa-43a0-9fc9-02aeff51a5f5",
   "metadata": {},
   "outputs": [],
   "source": [
    "# Since this access token will be used in all remaining client requests,\n",
    "# let us set it in the current `session` instance, so we dont worry no more about it.\n",
    "\n",
    "session.set_access_token(access_token)"
   ]
  },
  {
   "cell_type": "markdown",
   "id": "3565a4d3-4b8f-4ec6-99bf-6db3de1a0369",
   "metadata": {},
   "source": [
    "# Minio client\n",
    "\n",
    "Minio client allows to write datasets in cloud buckets for later use with the ***forecast*** service."
   ]
  },
  {
   "cell_type": "code",
   "execution_count": 17,
   "id": "5514ccb2-66ae-4520-bc1d-7b0f328e95b6",
   "metadata": {},
   "outputs": [],
   "source": [
    "minio_client = session.create_client(\n",
    "    service_name='minio', \n",
    "    is_secure=False, \n",
    ")"
   ]
  },
  {
   "cell_type": "code",
   "execution_count": 17,
   "id": "d4ecaf92-b88d-43af-a4b6-29e70ed307e1",
   "metadata": {},
   "outputs": [
    {
     "name": "stdout",
     "output_type": "stream",
     "text": [
      "{'endpoint': 'minio:9000', 'access_key': 'johndoe', 'secret_key': 'password', 'secure': False}\n"
     ]
    }
   ],
   "source": [
    "# Write TRAIN dataset to minio bucket.\n",
    "\n",
    "minio_client.create_dataset(\n",
    "    dataset_group_name='sample_group', dataset_name='X_train',\n",
    "    data=X_train, schema=schema, dataset_type='target')"
   ]
  },
  {
   "cell_type": "code",
   "execution_count": 18,
   "id": "a57c141e-6b5d-414a-bcf0-9e7d2545ee37",
   "metadata": {},
   "outputs": [],
   "source": [
    "# Write TEST dataset to minio bucket.\n",
    "\n",
    "minio_client.create_dataset(\n",
    "    dataset_group_name='sample_group', dataset_name='for_inference/X_test',\n",
    "    data=X_test, schema=schema, dataset_type='target')"
   ]
  },
  {
   "cell_type": "markdown",
   "id": "3f8cf7dd-407c-4d5c-9cb0-b6f966f1a988",
   "metadata": {},
   "source": [
    "# Forecast client"
   ]
  },
  {
   "cell_type": "code",
   "execution_count": 19,
   "id": "1b8aff55-b14f-4621-92b6-e0592c8e1c2b",
   "metadata": {},
   "outputs": [],
   "source": [
    "forecast_client = session.create_client(\n",
    "    service_name='forecast', \n",
    "    is_secure=False\n",
    ")"
   ]
  },
  {
   "cell_type": "code",
   "execution_count": 22,
   "id": "4d97f68f-fc8e-465f-926f-46c3624b9331",
   "metadata": {},
   "outputs": [],
   "source": [
    "forecast_config = {\n",
    "    'task_name': 'sample_training_task',\n",
    "    'dataset_group_name': 'sample_group',\n",
    "    'dataset_name': 'X_train',\n",
    "    'algorithm': 'seq2seq',\n",
    "    'forecast_horizon': 10,\n",
    "    'perform_hpo': False,\n",
    "    'inference_folder': 'for_inference'\n",
    "}\n",
    "\n",
    "http = forecast_client.create_predictor(**forecast_config)"
   ]
  },
  {
   "cell_type": "code",
   "execution_count": 23,
   "id": "31243180-8273-4d0b-a03e-3dfc24f62e85",
   "metadata": {},
   "outputs": [
    {
     "data": {
      "text/plain": [
       "{'task_id': '9cbcca42-5f17-459a-8361-57960d7e723e', 'status': 'Processing'}"
      ]
     },
     "execution_count": 23,
     "metadata": {},
     "output_type": "execute_result"
    }
   ],
   "source": [
    "# Inspect http response.\n",
    "# Notice it contains the task UUID under the key 'task_id'.\n",
    "\n",
    "http.json()"
   ]
  },
  {
   "cell_type": "markdown",
   "id": "c424b19a-1007-4f83-a828-7237f5b3ac68",
   "metadata": {},
   "source": [
    "# MlFlow"
   ]
  },
  {
   "cell_type": "code",
   "execution_count": 24,
   "id": "177c741e-d63f-4ebb-b12f-127e546ea000",
   "metadata": {},
   "outputs": [],
   "source": [
    "import mlflow\n",
    "import numpy as np"
   ]
  },
  {
   "cell_type": "code",
   "execution_count": 46,
   "id": "5b25c64e-a307-4e50-a357-9b2dc7b57e38",
   "metadata": {},
   "outputs": [],
   "source": [
    "run_id =  mlflow.search_runs(filter_string='tags.mlflow.runName = \"sample_training_task\"').iloc[0].run_id"
   ]
  },
  {
   "cell_type": "markdown",
   "id": "4e09c41d-0d00-43bf-8ca3-be344ec1e3df",
   "metadata": {},
   "source": [
    "# Register model"
   ]
  },
  {
   "cell_type": "code",
   "execution_count": 47,
   "id": "1ee3cf2f-2f8e-4e8e-b646-bf8da9200689",
   "metadata": {},
   "outputs": [
    {
     "name": "stderr",
     "output_type": "stream",
     "text": [
      "Successfully registered model 'model A'.\n",
      "2022/05/17 11:50:33 INFO mlflow.tracking._model_registry.client: Waiting up to 300 seconds for model version to finish creation.                     Model name: model A, version 1\n",
      "Created version '1' of model 'model A'.\n"
     ]
    }
   ],
   "source": [
    "model_name = \"model A\"\n",
    "model_version = mlflow.register_model(f\"runs:/{run_id}/sample_training_task\", model_name)"
   ]
  },
  {
   "cell_type": "code",
   "execution_count": 48,
   "id": "d44401ed-8bba-42a8-9777-ac4a0025cda8",
   "metadata": {},
   "outputs": [
    {
     "data": {
      "text/plain": [
       "<ModelVersion: creation_timestamp=1652788233781, current_stage='Production', description='', last_updated_timestamp=1652788237224, name='model A', run_id='b9a80f8e609446f197c7bbb813cfedb3', run_link='', source='s3://pipelines/0/b9a80f8e609446f197c7bbb813cfedb3/artifacts/sample_training_task', status='READY', status_message='', tags={}, user_id='', version='1'>"
      ]
     },
     "execution_count": 48,
     "metadata": {},
     "output_type": "execute_result"
    }
   ],
   "source": [
    "from mlflow.tracking import MlflowClient\n",
    " \n",
    "client = MlflowClient()\n",
    "client.transition_model_version_stage(\n",
    "  name=model_name,\n",
    "  version=model_version.version,\n",
    "  stage=\"Production\",\n",
    ")"
   ]
  },
  {
   "cell_type": "markdown",
   "id": "b5b96d40-d972-4dee-aa0d-4b21bd631769",
   "metadata": {},
   "source": [
    "# Load model"
   ]
  },
  {
   "cell_type": "code",
   "execution_count": 30,
   "id": "1337dc69-adc1-4a5b-a107-72363d6dc1ec",
   "metadata": {},
   "outputs": [],
   "source": [
    "# Load model\n",
    "\n",
    "model_name = \"model B\"\n",
    "model = mlflow.pyfunc.load_model(f\"models:/{model_name}/production\")"
   ]
  },
  {
   "cell_type": "code",
   "execution_count": null,
   "id": "62b58961-f38f-4c4b-950f-6a764283b6be",
   "metadata": {},
   "outputs": [],
   "source": []
  },
  {
   "cell_type": "code",
   "execution_count": 33,
   "id": "fe9b3ac4-5ae2-49bb-bdbb-dfd62a15976d",
   "metadata": {},
   "outputs": [
    {
     "data": {
      "text/plain": [
       "'/tmp/tmpzxx64kx2/artifacts/.'"
      ]
     },
     "execution_count": 33,
     "metadata": {},
     "output_type": "execute_result"
    }
   ],
   "source": [
    "model._model_impl.context.artifacts['inference']"
   ]
  }
 ],
 "metadata": {
  "kernelspec": {
   "display_name": "Python 3 (ipykernel)",
   "language": "python",
   "name": "python3"
  },
  "language_info": {
   "codemirror_mode": {
    "name": "ipython",
    "version": 3
   },
   "file_extension": ".py",
   "mimetype": "text/x-python",
   "name": "python",
   "nbconvert_exporter": "python",
   "pygments_lexer": "ipython3",
   "version": "3.9.12"
  }
 },
 "nbformat": 4,
 "nbformat_minor": 5
}
