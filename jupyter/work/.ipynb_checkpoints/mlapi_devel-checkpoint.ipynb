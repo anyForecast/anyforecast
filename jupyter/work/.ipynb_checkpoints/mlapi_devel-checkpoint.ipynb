{
 "cells": [
  {
   "cell_type": "code",
   "execution_count": 1,
   "id": "222c977b-26b2-43ee-926e-24b644b4d9aa",
   "metadata": {},
   "outputs": [],
   "source": [
    "# Add mlapi package to sys path\n",
    "\n",
    "MLAPI_PATH = '/home/jovyan/mlapi'\n",
    "\n",
    "import sys\n",
    "\n",
    "if MLAPI_PATH not in sys.path:\n",
    "    sys.path.append(MLAPI_PATH)"
   ]
  },
  {
   "cell_type": "code",
   "execution_count": 2,
   "id": "8f5aabd7-6809-45be-9c42-e0599d625e6b",
   "metadata": {},
   "outputs": [],
   "source": [
    "import requests"
   ]
  },
  {
   "cell_type": "code",
   "execution_count": 3,
   "id": "b40c711d-40f2-4512-af09-32293482592c",
   "metadata": {},
   "outputs": [],
   "source": [
    "%load_ext autoreload\n",
    "%autoreload 2"
   ]
  },
  {
   "cell_type": "markdown",
   "id": "613f0d19-55a5-43c6-9010-2b1917cbbae1",
   "metadata": {},
   "source": [
    "# ParquetGetter"
   ]
  },
  {
   "cell_type": "code",
   "execution_count": 4,
   "id": "68173364-09ee-4afc-b54f-b410173dfbe8",
   "metadata": {},
   "outputs": [],
   "source": [
    "from mlapi.datasources.s3 import ParquetLoader\n",
    "from mlapi.client_args import ClientArgs\n",
    "from mlapi.main import Forecaster\n",
    "from minio import Minio"
   ]
  },
  {
   "cell_type": "code",
   "execution_count": 5,
   "id": "c97c604d-0e88-4776-88d9-004ef2180f00",
   "metadata": {},
   "outputs": [],
   "source": [
    "# Client args (authentication).\n",
    "\n",
    "client_args = {\n",
    "    \"endpoint\": 'minio:9000',\n",
    "    \"access_key\": 'oxxo',\n",
    "    \"secret_key\": 'password',\n",
    "    'secure': False\n",
    "}\n",
    "client_args = ClientArgs(**client_args)"
   ]
  },
  {
   "cell_type": "code",
   "execution_count": 6,
   "id": "5441f854-7901-438f-8792-a5d35e604e67",
   "metadata": {},
   "outputs": [],
   "source": [
    "# Dummy request.\n",
    "data = {\n",
    "    'name': 'sample',\n",
    "    'algorithm': 'seq2seq',\n",
    "    'forecast_horizon': 10,\n",
    "    'perform_hpo': False,\n",
    "    'bucket_name': 'sample'\n",
    "}\n",
    "predictor = Forecaster(**data)\n",
    "\n",
    "\n",
    "# Parquet getter: getter for parquet datasets stored in minio buckets.\n",
    "parquet_loader = ParquetLoader(\n",
    "    'sample', \n",
    "    client_args\n",
    ")"
   ]
  },
  {
   "cell_type": "code",
   "execution_count": 7,
   "id": "d8dc3cf8-5da1-40ef-a5da-13b3bf596c60",
   "metadata": {},
   "outputs": [
    {
     "data": {
      "text/plain": [
       "<pyarrow.parquet.ParquetDataset at 0xffff40badca0>"
      ]
     },
     "execution_count": 7,
     "metadata": {},
     "output_type": "execute_result"
    }
   ],
   "source": [
    "parquet_loader.load('data/target/')"
   ]
  },
  {
   "cell_type": "markdown",
   "id": "381d9dce-ff91-4bb6-8141-5f01642db68c",
   "metadata": {},
   "source": [
    "# ParquetMerger"
   ]
  },
  {
   "cell_type": "code",
   "execution_count": 24,
   "id": "7b89f839-fd40-4f2c-ad3c-883783f4afc9",
   "metadata": {},
   "outputs": [],
   "source": [
    "from mlapi.ml._parquet_mergers import TimeSeriesMerger"
   ]
  },
  {
   "cell_type": "code",
   "execution_count": 25,
   "id": "1632204e-cbea-4fbb-a511-80c4145a2a2c",
   "metadata": {},
   "outputs": [],
   "source": [
    "datasets = parquet_loader.resolve_datasets()\n",
    "merger = TimeSeriesMerger(**datasets)"
   ]
  },
  {
   "cell_type": "code",
   "execution_count": 26,
   "id": "fe830854-c095-41b3-bd19-4d28e0f28b51",
   "metadata": {},
   "outputs": [],
   "source": [
    "X = merger.merge()"
   ]
  },
  {
   "cell_type": "code",
   "execution_count": 30,
   "id": "9b05bb8e-268d-4b7a-9045-b1762e53a796",
   "metadata": {},
   "outputs": [
    {
     "data": {
      "text/plain": [
       "{'target': ['target'],\n",
       " 'time_varying_known_reals': [],\n",
       " 'time_varying_unknown_reals': [],\n",
       " 'static_categoricals': []}"
      ]
     },
     "execution_count": 30,
     "metadata": {},
     "output_type": "execute_result"
    }
   ],
   "source": [
    "merger.get_names()"
   ]
  },
  {
   "cell_type": "markdown",
   "id": "615e215a-cec8-431c-b22f-e4383dfc0339",
   "metadata": {},
   "source": [
    "# PreprocessorCreator"
   ]
  },
  {
   "cell_type": "code",
   "execution_count": 13,
   "id": "e817dc1a-66b8-4c13-9265-608518ee9fe0",
   "metadata": {},
   "outputs": [],
   "source": [
    "from mlapi.ml._preprocessor import PreprocessorCreator"
   ]
  },
  {
   "cell_type": "code",
   "execution_count": 14,
   "id": "3897231f-3a62-4ed2-a516-d4c4e64d6cce",
   "metadata": {},
   "outputs": [],
   "source": [
    "group_ids = merger.get_group_ids()\n",
    "timestamp = 'timestamp'\n",
    "preprocessor_creator = PreprocessorCreator(group_ids, timestamp)\n",
    "preprocessor = preprocessor_creator.create_preprocessor()"
   ]
  },
  {
   "cell_type": "markdown",
   "id": "70389956-7106-4498-9349-a0e9e63c19f0",
   "metadata": {},
   "source": [
    "# EstimatorCreator"
   ]
  },
  {
   "cell_type": "code",
   "execution_count": 31,
   "id": "a34158fa-fd8e-47db-b83e-d85e1e1f3d1b",
   "metadata": {},
   "outputs": [],
   "source": [
    "from mlapi.ml._estimator import EstimatorCreator"
   ]
  },
  {
   "cell_type": "code",
   "execution_count": 44,
   "id": "c95c99ac-6935-4bd1-a7fd-5801513dc4ce",
   "metadata": {},
   "outputs": [],
   "source": [
    "estimator_creator = EstimatorCreator(predictor)"
   ]
  },
  {
   "cell_type": "code",
   "execution_count": 45,
   "id": "be95f120-c532-414e-9775-afef93e610a1",
   "metadata": {},
   "outputs": [],
   "source": [
    "features_time_dependence = merger.get_names()"
   ]
  },
  {
   "cell_type": "code",
   "execution_count": 47,
   "id": "b189556a-d18b-4d32-9f69-d30159f22dce",
   "metadata": {},
   "outputs": [],
   "source": [
    "estimator = estimator_creator.create_estimator(group_ids, **features_time_dependence)"
   ]
  },
  {
   "cell_type": "markdown",
   "id": "56ff89f0-476c-45f8-98a7-634939787936",
   "metadata": {},
   "source": [
    "# Forecasting task"
   ]
  },
  {
   "cell_type": "code",
   "execution_count": 51,
   "id": "0a5d9ecf-b832-409e-8ec1-726b76ea8c27",
   "metadata": {},
   "outputs": [
    {
     "data": {
      "text/plain": [
       "{'target': ['target'],\n",
       " 'time_varying_known_reals': [],\n",
       " 'time_varying_unknown_reals': [],\n",
       " 'static_categoricals': []}"
      ]
     },
     "execution_count": 51,
     "metadata": {},
     "output_type": "execute_result"
    }
   ],
   "source": []
  }
 ],
 "metadata": {
  "kernelspec": {
   "display_name": "Python 3 (ipykernel)",
   "language": "python",
   "name": "python3"
  },
  "language_info": {
   "codemirror_mode": {
    "name": "ipython",
    "version": 3
   },
   "file_extension": ".py",
   "mimetype": "text/x-python",
   "name": "python",
   "nbconvert_exporter": "python",
   "pygments_lexer": "ipython3",
   "version": "3.9.10"
  }
 },
 "nbformat": 4,
 "nbformat_minor": 5
}
