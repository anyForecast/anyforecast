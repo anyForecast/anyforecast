{
 "cells": [
  {
   "cell_type": "code",
   "execution_count": 1,
   "id": "2ae566a9-b6bf-4b8e-9a07-52359d5d2b2f",
   "metadata": {},
   "outputs": [],
   "source": [
    "# Add client package to sys path\n",
    "\n",
    "CLIENT_PATH = '/home/jovyan/client'\n",
    "\n",
    "import sys\n",
    "\n",
    "if CLIENT_PATH not in sys.path:\n",
    "    sys.path.append(CLIENT_PATH)"
   ]
  },
  {
   "cell_type": "code",
   "execution_count": 2,
   "id": "9c473aa8-48a5-440f-ba00-71eaa3b07c6b",
   "metadata": {},
   "outputs": [],
   "source": [
    "%load_ext autoreload\n",
    "%autoreload 2"
   ]
  },
  {
   "cell_type": "markdown",
   "id": "dac8422e-177d-4792-971a-0d7e291e7aab",
   "metadata": {},
   "source": [
    "# Sample dataset"
   ]
  },
  {
   "cell_type": "code",
   "execution_count": 3,
   "id": "8c210396-3f99-4774-ace2-94f1719a88ef",
   "metadata": {},
   "outputs": [],
   "source": [
    "import pandas as pd"
   ]
  },
  {
   "cell_type": "code",
   "execution_count": 4,
   "id": "757ec837-a4c2-4762-abf2-2eb9b1f1170b",
   "metadata": {},
   "outputs": [],
   "source": [
    "schema = {\n",
    "    'Features': [\n",
    "        {\n",
    "            'FeatureName': 'target',\n",
    "            'FeatureType': 'float'\n",
    "        },\n",
    "        {\n",
    "            'FeatureName': 'group_id__0',\n",
    "            'FeatureType': 'string'\n",
    "        },\n",
    "        {\n",
    "            'FeatureName': 'group_id__1',\n",
    "            'FeatureType': 'string'\n",
    "        },\n",
    "        {\n",
    "            'FeatureName': 'timestamp',\n",
    "            'FeatureType': 'timestamp'\n",
    "        }\n",
    "    ]\n",
    "}"
   ]
  },
  {
   "cell_type": "code",
   "execution_count": 5,
   "id": "87e8167b-cfeb-4075-ae54-4b2a11b71e99",
   "metadata": {},
   "outputs": [],
   "source": [
    "df = pd.read_csv('data/target.csv')\n",
    "df = df.rename(\n",
    "    columns={\n",
    "        'store': 'group_id__0',\n",
    "        'item': 'group_id__1', \n",
    "        'date': 'timestamp', \n",
    "        'sales': 'target'\n",
    "    }\n",
    ")"
   ]
  },
  {
   "cell_type": "code",
   "execution_count": 6,
   "id": "9fba845e-9857-4551-b72d-c711cc119fd9",
   "metadata": {},
   "outputs": [],
   "source": [
    "dtypes = {\n",
    "    'target': float,\n",
    "    'group_id__0': str,\n",
    "    'group_id__1': str,\n",
    "}\n",
    "df = df.astype(dtypes)\n",
    "df['timestamp'] = pd.to_datetime(df['timestamp'])"
   ]
  },
  {
   "cell_type": "markdown",
   "id": "dbfc5ce0-c025-447a-ad36-90e5cbff0201",
   "metadata": {},
   "source": [
    "# Create session instance"
   ]
  },
  {
   "cell_type": "code",
   "execution_count": 25,
   "id": "fe8a7f28-5f08-4f37-9b68-60e8276a43b8",
   "metadata": {},
   "outputs": [],
   "source": [
    "# The `session` instance allows us to create clients for any available service.\n",
    "\n",
    "from client.session import Session\n",
    "\n",
    "session = Session()"
   ]
  },
  {
   "cell_type": "code",
   "execution_count": 26,
   "id": "6c79902a-3679-42ad-8b18-9da73b08d475",
   "metadata": {},
   "outputs": [
    {
     "data": {
      "text/plain": [
       "['minio', 'forecast', 'login']"
      ]
     },
     "execution_count": 26,
     "metadata": {},
     "output_type": "execute_result"
    }
   ],
   "source": [
    "# List available services\n",
    "\n",
    "session.get_available_services()"
   ]
  },
  {
   "cell_type": "markdown",
   "id": "0e239e3c-d8bd-42d8-a431-daa8c424c63e",
   "metadata": {},
   "source": [
    "# Login service"
   ]
  },
  {
   "cell_type": "code",
   "execution_count": 27,
   "id": "d9c49e2e-f841-4dd1-9ba3-168167e9e30d",
   "metadata": {},
   "outputs": [],
   "source": [
    "login_client = session.create_client(\n",
    "    service_name='login'\n",
    ")"
   ]
  },
  {
   "cell_type": "code",
   "execution_count": 28,
   "id": "760abcac-5d67-4674-8bdc-e3c49e03501e",
   "metadata": {},
   "outputs": [
    {
     "name": "stdin",
     "output_type": "stream",
     "text": [
      "Username:  johndoe\n",
      "Password:  ······\n"
     ]
    }
   ],
   "source": [
    "login_response = login_client.login()"
   ]
  },
  {
   "cell_type": "code",
   "execution_count": 29,
   "id": "e5c30908-385f-4178-b9fb-7e63772b35b3",
   "metadata": {},
   "outputs": [],
   "source": [
    "# Collect access token from login response.\n",
    "\n",
    "access_token = login_response.json()['access_token']"
   ]
  },
  {
   "cell_type": "code",
   "execution_count": 30,
   "id": "2b358bd6-c1aa-43a0-9fc9-02aeff51a5f5",
   "metadata": {},
   "outputs": [],
   "source": [
    "# Since this access token will be used in all remaining client requests,\n",
    "# let us set it in the current `session` instance, so we dont worry no more about it.\n",
    "\n",
    "session.set_access_token(access_token)"
   ]
  },
  {
   "cell_type": "markdown",
   "id": "3565a4d3-4b8f-4ec6-99bf-6db3de1a0369",
   "metadata": {},
   "source": [
    "# Minio client\n",
    "\n",
    "Minio client allows to write datasets in cloud buckets for later use with the ***forecast*** service."
   ]
  },
  {
   "cell_type": "code",
   "execution_count": 13,
   "id": "5514ccb2-66ae-4520-bc1d-7b0f328e95b6",
   "metadata": {},
   "outputs": [],
   "source": [
    "minio_client = session.create_client(\n",
    "    service_name='minio', \n",
    "    is_secure=False, \n",
    ")"
   ]
  },
  {
   "cell_type": "code",
   "execution_count": 14,
   "id": "d4ecaf92-b88d-43af-a4b6-29e70ed307e1",
   "metadata": {},
   "outputs": [],
   "source": [
    "# Write dataset to minio bucket.\n",
    "\n",
    "minio_client.create_dataset(df, schema, dataset_type='target', name='sample')"
   ]
  },
  {
   "cell_type": "markdown",
   "id": "3f8cf7dd-407c-4d5c-9cb0-b6f966f1a988",
   "metadata": {},
   "source": [
    "# Forecast client"
   ]
  },
  {
   "cell_type": "code",
   "execution_count": 31,
   "id": "1b8aff55-b14f-4621-92b6-e0592c8e1c2b",
   "metadata": {},
   "outputs": [],
   "source": [
    "forecast_client = session.create_client(\n",
    "    service_name='forecast', \n",
    "    is_secure=False\n",
    ")"
   ]
  },
  {
   "cell_type": "code",
   "execution_count": 41,
   "id": "4d97f68f-fc8e-465f-926f-46c3624b9331",
   "metadata": {},
   "outputs": [],
   "source": [
    "forecast_config = {\n",
    "    'name': 'sample',\n",
    "    'algorithm': 'seq2seq',\n",
    "    'forecast_horizon': 10,\n",
    "    'perform_hpo': False,\n",
    "    'dataset_name': 'sample',\n",
    "}\n",
    "\n",
    "http = forecast_client.create_predictor(**forecast)"
   ]
  },
  {
   "cell_type": "code",
   "execution_count": 42,
   "id": "31243180-8273-4d0b-a03e-3dfc24f62e85",
   "metadata": {},
   "outputs": [
    {
     "data": {
      "text/plain": [
       "{'task_id': '8e4ffd7e-7ab6-401f-bcc4-d896f836fa10', 'status': 'Processing'}"
      ]
     },
     "execution_count": 42,
     "metadata": {},
     "output_type": "execute_result"
    }
   ],
   "source": [
    "http.json()"
   ]
  }
 ],
 "metadata": {
  "kernelspec": {
   "display_name": "Python 3 (ipykernel)",
   "language": "python",
   "name": "python3"
  },
  "language_info": {
   "codemirror_mode": {
    "name": "ipython",
    "version": 3
   },
   "file_extension": ".py",
   "mimetype": "text/x-python",
   "name": "python",
   "nbconvert_exporter": "python",
   "pygments_lexer": "ipython3",
   "version": "3.9.10"
  }
 },
 "nbformat": 4,
 "nbformat_minor": 5
}
