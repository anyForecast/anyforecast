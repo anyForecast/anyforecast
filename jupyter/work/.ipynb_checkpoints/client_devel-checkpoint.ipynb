{
 "cells": [
  {
   "cell_type": "code",
   "execution_count": 4,
   "id": "4e8c2fec-c499-4a86-9d1f-b589c9285cb6",
   "metadata": {},
   "outputs": [],
   "source": [
    "# Add client package to sys path\n",
    "\n",
    "CLIENT_PATH = '/home/jovyan/client'\n",
    "\n",
    "import sys\n",
    "\n",
    "if CLIENT_PATH not in sys.path:\n",
    "    sys.path.append(CLIENT_PATH)"
   ]
  },
  {
   "cell_type": "code",
   "execution_count": 5,
   "id": "0d1df872-2e04-4db0-82a9-94abab6e0a67",
   "metadata": {},
   "outputs": [
    {
     "name": "stdout",
     "output_type": "stream",
     "text": [
      "The autoreload extension is already loaded. To reload it, use:\n",
      "  %reload_ext autoreload\n"
     ]
    }
   ],
   "source": [
    "%load_ext autoreload\n",
    "%autoreload 2"
   ]
  },
  {
   "cell_type": "code",
   "execution_count": 6,
   "id": "f1b85105-9bcd-4569-b7f8-91a2b2a7f185",
   "metadata": {},
   "outputs": [],
   "source": [
    "from client.session import Session"
   ]
  },
  {
   "cell_type": "code",
   "execution_count": 7,
   "id": "d3dfbebc-4095-4381-81d8-21a6dec891d9",
   "metadata": {},
   "outputs": [],
   "source": [
    "session = Session()"
   ]
  },
  {
   "cell_type": "code",
   "execution_count": 9,
   "id": "86b98cbc-e653-45a7-8301-d6222f42879c",
   "metadata": {},
   "outputs": [],
   "source": [
    "endpoint_resolver = session._get_internal_component('endpoint_resolver')"
   ]
  },
  {
   "cell_type": "code",
   "execution_count": 21,
   "id": "acecb91f-3140-4e1a-aef4-43e366efbf6f",
   "metadata": {},
   "outputs": [],
   "source": [
    "partition = endpoint_resolver._endpoint_data['partitions'][0]"
   ]
  },
  {
   "cell_type": "code",
   "execution_count": 22,
   "id": "dc49503d-947a-4857-8f59-675a638bf37e",
   "metadata": {},
   "outputs": [
    {
     "data": {
      "text/plain": [
       "OrderedDict([('ports',\n",
       "              OrderedDict([('9000',\n",
       "                            OrderedDict([('endpoints', OrderedDict())]))]))])"
      ]
     },
     "execution_count": 22,
     "metadata": {},
     "output_type": "execute_result"
    }
   ],
   "source": [
    "service_name = 'minio'\n",
    "partition['services'].get(service_name)"
   ]
  },
  {
   "cell_type": "code",
   "execution_count": 12,
   "id": "5e1a127a-3964-43fd-ad68-47e3cb361071",
   "metadata": {},
   "outputs": [
    {
     "name": "stdout",
     "output_type": "stream",
     "text": [
      "OrderedDict([('ports', OrderedDict([('9000', OrderedDict([('endpoints', OrderedDict())]))]))])\n"
     ]
    },
    {
     "ename": "KeyError",
     "evalue": "'endpoints'",
     "output_type": "error",
     "traceback": [
      "\u001b[0;31m---------------------------------------------------------------------------\u001b[0m",
      "\u001b[0;31mKeyError\u001b[0m                                  Traceback (most recent call last)",
      "Input \u001b[0;32mIn [12]\u001b[0m, in \u001b[0;36m<cell line: 1>\u001b[0;34m()\u001b[0m\n\u001b[0;32m----> 1\u001b[0m \u001b[43mendpoint_resolver\u001b[49m\u001b[38;5;241;43m.\u001b[39;49m\u001b[43mconstruct_endpoint\u001b[49m\u001b[43m(\u001b[49m\u001b[38;5;124;43m'\u001b[39;49m\u001b[38;5;124;43mminio\u001b[39;49m\u001b[38;5;124;43m'\u001b[39;49m\u001b[43m)\u001b[49m\n",
      "File \u001b[0;32m~/client/client/session.py:242\u001b[0m, in \u001b[0;36mEndpointResolver.construct_endpoint\u001b[0;34m(self, service_name, endpoint_name, partition_name)\u001b[0m\n\u001b[1;32m    240\u001b[0m \u001b[38;5;66;03m# Iterate over each partition until a match is found.\u001b[39;00m\n\u001b[1;32m    241\u001b[0m \u001b[38;5;28;01mfor\u001b[39;00m partition \u001b[38;5;129;01min\u001b[39;00m \u001b[38;5;28mself\u001b[39m\u001b[38;5;241m.\u001b[39m_endpoint_data[\u001b[38;5;124m'\u001b[39m\u001b[38;5;124mpartitions\u001b[39m\u001b[38;5;124m'\u001b[39m]:\n\u001b[0;32m--> 242\u001b[0m     result \u001b[38;5;241m=\u001b[39m \u001b[38;5;28;43mself\u001b[39;49m\u001b[38;5;241;43m.\u001b[39;49m\u001b[43m_endpoint_for_partition\u001b[49m\u001b[43m(\u001b[49m\n\u001b[1;32m    243\u001b[0m \u001b[43m        \u001b[49m\u001b[43mpartition\u001b[49m\u001b[43m,\u001b[49m\u001b[43m \u001b[49m\u001b[43mservice_name\u001b[49m\u001b[43m,\u001b[49m\u001b[43m \u001b[49m\u001b[43mendpoint_name\u001b[49m\u001b[43m)\u001b[49m\n\u001b[1;32m    244\u001b[0m     \u001b[38;5;28;01mif\u001b[39;00m result:\n\u001b[1;32m    245\u001b[0m         \u001b[38;5;28;01mreturn\u001b[39;00m result\n",
      "File \u001b[0;32m~/client/client/session.py:276\u001b[0m, in \u001b[0;36mEndpointResolver._endpoint_for_partition\u001b[0;34m(self, partition, service_name, endpoint_name)\u001b[0m\n\u001b[1;32m    271\u001b[0m service_data \u001b[38;5;241m=\u001b[39m partition[\u001b[38;5;124m'\u001b[39m\u001b[38;5;124mservices\u001b[39m\u001b[38;5;124m'\u001b[39m]\u001b[38;5;241m.\u001b[39mget(\n\u001b[1;32m    272\u001b[0m     service_name, DEFAULT_SERVICE_DATA)\n\u001b[1;32m    274\u001b[0m \u001b[38;5;28mprint\u001b[39m(service_data)\n\u001b[0;32m--> 276\u001b[0m endpoint_name \u001b[38;5;241m=\u001b[39m \u001b[38;5;28;43mself\u001b[39;49m\u001b[38;5;241;43m.\u001b[39;49m\u001b[43m_get_endpoint_name\u001b[49m\u001b[43m(\u001b[49m\u001b[43mservice_data\u001b[49m\u001b[43m,\u001b[49m\u001b[43m \u001b[49m\u001b[43mendpoint_name\u001b[49m\u001b[43m)\u001b[49m\n\u001b[1;32m    278\u001b[0m resolve_kwargs \u001b[38;5;241m=\u001b[39m {\n\u001b[1;32m    279\u001b[0m     \u001b[38;5;124m'\u001b[39m\u001b[38;5;124mpartition\u001b[39m\u001b[38;5;124m'\u001b[39m: partition,\n\u001b[1;32m    280\u001b[0m     \u001b[38;5;124m'\u001b[39m\u001b[38;5;124mservice_name\u001b[39m\u001b[38;5;124m'\u001b[39m: service_name,\n\u001b[1;32m    281\u001b[0m     \u001b[38;5;124m'\u001b[39m\u001b[38;5;124mservice_data\u001b[39m\u001b[38;5;124m'\u001b[39m: service_data,\n\u001b[1;32m    282\u001b[0m     \u001b[38;5;124m'\u001b[39m\u001b[38;5;124mendpoint_name\u001b[39m\u001b[38;5;124m'\u001b[39m: endpoint_name\n\u001b[1;32m    283\u001b[0m }\n\u001b[1;32m    284\u001b[0m \u001b[38;5;28;01mreturn\u001b[39;00m \u001b[38;5;28mself\u001b[39m\u001b[38;5;241m.\u001b[39m_resolve(\u001b[38;5;241m*\u001b[39m\u001b[38;5;241m*\u001b[39mresolve_kwargs)\n",
      "File \u001b[0;32m~/client/client/session.py:262\u001b[0m, in \u001b[0;36mEndpointResolver._get_endpoint_name\u001b[0;34m(self, service_data, endpoint_name)\u001b[0m\n\u001b[1;32m    260\u001b[0m \u001b[38;5;28;01mif\u001b[39;00m \u001b[38;5;124m'\u001b[39m\u001b[38;5;124mpartitionEndpoint\u001b[39m\u001b[38;5;124m'\u001b[39m \u001b[38;5;129;01min\u001b[39;00m service_data:\n\u001b[1;32m    261\u001b[0m     endpoint_name \u001b[38;5;241m=\u001b[39m service_data[\u001b[38;5;124m'\u001b[39m\u001b[38;5;124mpartitionEndpoint\u001b[39m\u001b[38;5;124m'\u001b[39m]\n\u001b[0;32m--> 262\u001b[0m \u001b[38;5;28;01melif\u001b[39;00m \u001b[38;5;129;01mnot\u001b[39;00m \u001b[43mservice_data\u001b[49m\u001b[43m[\u001b[49m\u001b[38;5;124;43m'\u001b[39;49m\u001b[38;5;124;43mendpoints\u001b[39;49m\u001b[38;5;124;43m'\u001b[39;49m\u001b[43m]\u001b[49m:\n\u001b[1;32m    263\u001b[0m     endpoint_name \u001b[38;5;241m=\u001b[39m \u001b[38;5;28;01mNone\u001b[39;00m\n\u001b[1;32m    264\u001b[0m \u001b[38;5;28;01melse\u001b[39;00m:\n",
      "\u001b[0;31mKeyError\u001b[0m: 'endpoints'"
     ]
    }
   ],
   "source": [
    "endpoint_resolver.construct_endpoint('minio')"
   ]
  }
 ],
 "metadata": {
  "kernelspec": {
   "display_name": "Python 3 (ipykernel)",
   "language": "python",
   "name": "python3"
  },
  "language_info": {
   "codemirror_mode": {
    "name": "ipython",
    "version": 3
   },
   "file_extension": ".py",
   "mimetype": "text/x-python",
   "name": "python",
   "nbconvert_exporter": "python",
   "pygments_lexer": "ipython3",
   "version": "3.9.10"
  }
 },
 "nbformat": 4,
 "nbformat_minor": 5
}
