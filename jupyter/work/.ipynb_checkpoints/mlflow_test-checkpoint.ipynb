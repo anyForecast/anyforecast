{
 "cells": [
  {
   "cell_type": "code",
   "execution_count": 1,
   "id": "88ef59db",
   "metadata": {},
   "outputs": [],
   "source": [
    "import mlflow\n",
    "from mlflow.tracking import MlflowClient"
   ]
  },
  {
   "cell_type": "code",
   "execution_count": 3,
   "id": "5be64380",
   "metadata": {},
   "outputs": [
    {
     "data": {
      "text/plain": [
       "[<Experiment: artifact_location='s3://default/0', experiment_id='0', lifecycle_stage='active', name='Default', tags={}>,\n",
       " <Experiment: artifact_location='s3://default/4', experiment_id='4', lifecycle_stage='active', name='sample_experiment', tags={}>]"
      ]
     },
     "execution_count": 3,
     "metadata": {},
     "output_type": "execute_result"
    }
   ],
   "source": [
    "# Create new experiment and see list of experiments\n",
    "\n",
    "mlflow.create_experiment('sample_experiment')  # choose a unique name\n",
    "client = MlflowClient()\n",
    "experiments = client.list_experiments() # returns a list of mlflow.entities.Experiment\n",
    "experiments "
   ]
  },
  {
   "cell_type": "code",
   "execution_count": 4,
   "id": "bb03239f",
   "metadata": {},
   "outputs": [],
   "source": [
    "# Log sample param\n",
    "\n",
    "run = client.create_run(experiments[0].experiment_id) # returns mlflow.entities.Run\n",
    "client.log_param(run.info.run_uuid, \"hello\", \"world\")\n",
    "client.set_terminated(run.info.run_uuid)"
   ]
  },
  {
   "cell_type": "code",
   "execution_count": 5,
   "id": "2a06e0fe",
   "metadata": {},
   "outputs": [],
   "source": [
    "# Create new run and log sample param and metrc\n",
    "\n",
    "with mlflow.start_run():\n",
    "    mlflow.log_param(\"a\", 1)\n",
    "    mlflow.log_metric(\"b\", 2)"
   ]
  },
  {
   "cell_type": "code",
   "execution_count": 6,
   "id": "10c899e4",
   "metadata": {},
   "outputs": [],
   "source": [
    "# Create new run and log sample params and sin and cosine metrics\n",
    "\n",
    "import numpy as np\n",
    "import matplotlib.pyplot as plt\n",
    "\n",
    "x = np.linspace(-np.pi, np.pi, 100)\n",
    "sin = np.sin(x)\n",
    "cos = np.cos(x)\n",
    "\n",
    "with mlflow.start_run():\n",
    "    mlflow.log_param(\"name\", 'sine test')\n",
    "    mlflow.log_param(\"mood\", 'great')\n",
    "    mlflow.log_param(\"weather\", 'sunny')\n",
    "    \n",
    "    for value in sin:\n",
    "        mlflow.log_metric(\"sine\", value)\n",
    "    for value in cos:\n",
    "        mlflow.log_metric(\"cosine\", value)"
   ]
  },
  {
   "cell_type": "code",
   "execution_count": 7,
   "id": "c2537026",
   "metadata": {},
   "outputs": [],
   "source": [
    "# (Optional) Test minIO artifact storage\n",
    "\n",
    "features = \"rooms, zipcode, median_price, school_rating, transport\"\n",
    "with open(\"features.txt\", 'w') as f:\n",
    "    f.write(features)\n",
    "\n",
    "# Log the artifact in a directory \"features\"\n",
    "with mlflow.start_run():\n",
    "    mlflow.log_artifact(\"features.txt\", artifact_path=\"features\")"
   ]
  }
 ],
 "metadata": {
  "kernelspec": {
   "display_name": "Python 3 (ipykernel)",
   "language": "python",
   "name": "python3"
  },
  "language_info": {
   "codemirror_mode": {
    "name": "ipython",
    "version": 3
   },
   "file_extension": ".py",
   "mimetype": "text/x-python",
   "name": "python",
   "nbconvert_exporter": "python",
   "pygments_lexer": "ipython3",
   "version": "3.9.7"
  }
 },
 "nbformat": 4,
 "nbformat_minor": 5
}
