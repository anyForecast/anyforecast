{
 "cells": [
  {
   "cell_type": "code",
   "execution_count": 1,
   "id": "4e8c2fec-c499-4a86-9d1f-b589c9285cb6",
   "metadata": {},
   "outputs": [],
   "source": [
    "# Add client package to sys path\n",
    "\n",
    "CLIENT_PATH = '/home/jovyan/client'\n",
    "\n",
    "import sys\n",
    "\n",
    "if CLIENT_PATH not in sys.path:\n",
    "    sys.path.append(CLIENT_PATH)"
   ]
  },
  {
   "cell_type": "code",
   "execution_count": 2,
   "id": "0d1df872-2e04-4db0-82a9-94abab6e0a67",
   "metadata": {},
   "outputs": [],
   "source": [
    "%load_ext autoreload\n",
    "%autoreload 2"
   ]
  },
  {
   "cell_type": "code",
   "execution_count": 3,
   "id": "f1b85105-9bcd-4569-b7f8-91a2b2a7f185",
   "metadata": {},
   "outputs": [],
   "source": [
    "from client.session import Session\n",
    "from client.client import ClientEndpointBridge"
   ]
  },
  {
   "cell_type": "code",
   "execution_count": 4,
   "id": "d3dfbebc-4095-4381-81d8-21a6dec891d9",
   "metadata": {},
   "outputs": [],
   "source": [
    "session = Session()"
   ]
  },
  {
   "cell_type": "code",
   "execution_count": 5,
   "id": "ac9d373b-a2cd-4a10-b4a9-8220dd54dc40",
   "metadata": {},
   "outputs": [],
   "source": [
    "forecast_client = session.create_client('forecast')"
   ]
  },
  {
   "cell_type": "code",
   "execution_count": 9,
   "id": "4271028f-fe35-4015-a1ea-0225907b2fec",
   "metadata": {},
   "outputs": [
    {
     "data": {
      "text/plain": [
       "'http://mlapi:80/forecast'"
      ]
     },
     "execution_count": 9,
     "metadata": {},
     "output_type": "execute_result"
    }
   ],
   "source": [
    "forecast_client._endpoint.host"
   ]
  },
  {
   "cell_type": "code",
   "execution_count": 11,
   "id": "2e35a3db-8f1e-496b-89b5-9e49d8a71597",
   "metadata": {},
   "outputs": [
    {
     "name": "stdout",
     "output_type": "stream",
     "text": [
      "request_dict: {'name': 'sample', 'algorithm': 'seq2seq', 'forecast_horizon': 10, 'bucket_name': 'sample', 'perform_hpo': False}\n"
     ]
    },
    {
     "data": {
      "text/plain": [
       "<Response [200]>"
      ]
     },
     "execution_count": 11,
     "metadata": {},
     "output_type": "execute_result"
    }
   ],
   "source": [
    "data = {\n",
    "    'name': 'sample',\n",
    "    'algorithm': 'seq2seq',\n",
    "    'forecast_horizon': 10,\n",
    "    'perform_hpo': False,\n",
    "    'bucket_name': 'sample'\n",
    "}\n",
    "\n",
    "forecast_client.create_predictor(**data)"
   ]
  },
  {
   "cell_type": "code",
   "execution_count": null,
   "id": "b70a28e0-430f-4499-9521-0d818b70a2a2",
   "metadata": {},
   "outputs": [],
   "source": []
  }
 ],
 "metadata": {
  "kernelspec": {
   "display_name": "Python 3 (ipykernel)",
   "language": "python",
   "name": "python3"
  },
  "language_info": {
   "codemirror_mode": {
    "name": "ipython",
    "version": 3
   },
   "file_extension": ".py",
   "mimetype": "text/x-python",
   "name": "python",
   "nbconvert_exporter": "python",
   "pygments_lexer": "ipython3",
   "version": "3.9.10"
  }
 },
 "nbformat": 4,
 "nbformat_minor": 5
}
