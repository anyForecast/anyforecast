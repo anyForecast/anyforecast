{
 "cells": [
  {
   "cell_type": "code",
   "execution_count": 1,
   "id": "222c977b-26b2-43ee-926e-24b644b4d9aa",
   "metadata": {},
   "outputs": [],
   "source": [
    "# Add mlapi package to sys path\n",
    "\n",
    "MLAPI_PATH = '/home/jovyan/mlapi'\n",
    "\n",
    "import sys\n",
    "\n",
    "if MLAPI_PATH not in sys.path:\n",
    "    sys.path.append(MLAPI_PATH)"
   ]
  },
  {
   "cell_type": "code",
   "execution_count": 2,
   "id": "0562765a-a114-4547-880b-dd6555bc4f21",
   "metadata": {},
   "outputs": [],
   "source": [
    "# Add mlapi/mlapi package to sys path for being able to load mlflow models.\n",
    "\n",
    "MLAPI_PATH = '/home/jovyan/mlapi/mlapi'\n",
    "\n",
    "import sys\n",
    "\n",
    "if MLAPI_PATH not in sys.path:\n",
    "    sys.path.append(MLAPI_PATH)"
   ]
  },
  {
   "cell_type": "code",
   "execution_count": 3,
   "id": "9f6e07e7-43de-4781-9b94-f7de4a2d787c",
   "metadata": {},
   "outputs": [],
   "source": [
    "import numpy as np"
   ]
  },
  {
   "cell_type": "code",
   "execution_count": 4,
   "id": "8f5aabd7-6809-45be-9c42-e0599d625e6b",
   "metadata": {},
   "outputs": [],
   "source": [
    "import requests"
   ]
  },
  {
   "cell_type": "code",
   "execution_count": 5,
   "id": "b40c711d-40f2-4512-af09-32293482592c",
   "metadata": {},
   "outputs": [],
   "source": [
    "%load_ext autoreload\n",
    "%autoreload 2"
   ]
  },
  {
   "cell_type": "markdown",
   "id": "10f81470-a1c7-47e8-addb-9ace089eefa9",
   "metadata": {},
   "source": [
    "# Json request"
   ]
  },
  {
   "cell_type": "code",
   "execution_count": 6,
   "id": "6b89baa0-42cd-47c2-976d-4c62f6222474",
   "metadata": {},
   "outputs": [],
   "source": [
    "# Dummy request.\n",
    "\n",
    "forecaster_data = {\n",
    "    'name': 'sample',\n",
    "    'algorithm': 'seq2seq',\n",
    "    'forecast_horizon': 10,\n",
    "    'perform_hpo': False,\n",
    "    'dataset_name': 'sample',\n",
    "}"
   ]
  },
  {
   "cell_type": "markdown",
   "id": "613f0d19-55a5-43c6-9010-2b1917cbbae1",
   "metadata": {},
   "source": [
    "# ParquetLoader"
   ]
  },
  {
   "cell_type": "code",
   "execution_count": 8,
   "id": "68173364-09ee-4afc-b54f-b410173dfbe8",
   "metadata": {},
   "outputs": [],
   "source": [
    "from mlapi.celery_app.ml.datasources import MultiParquetLoader\n",
    "from mlapi.celery_app.client_args import ClientArgs\n",
    "#from mlapi.main import Forecaster\n",
    "#from minio import Minio"
   ]
  },
  {
   "cell_type": "code",
   "execution_count": 9,
   "id": "c97c604d-0e88-4776-88d9-004ef2180f00",
   "metadata": {},
   "outputs": [],
   "source": [
    "# Client args (authentication).\n",
    "\n",
    "client_args = {\n",
    "    \"s3_endpoint\": 'minio:9000',\n",
    "    \"access_key\": 'user',\n",
    "    \"secret_key\": 'password',\n",
    "    'secure': False\n",
    "}\n",
    "client_args = ClientArgs(**client_args)"
   ]
  },
  {
   "cell_type": "code",
   "execution_count": 15,
   "id": "5441f854-7901-438f-8792-a5d35e604e67",
   "metadata": {},
   "outputs": [],
   "source": [
    "# Parquet loader: loader for parquet datasets stored in minio buckets or locally.\n",
    "\n",
    "parquet_loader = MultiParquetLoader()"
   ]
  },
  {
   "cell_type": "code",
   "execution_count": 18,
   "id": "e98becd9-9a5e-47e0-88f5-57dc0d2b6083",
   "metadata": {},
   "outputs": [
    {
     "data": {
      "text/plain": [
       "{'target': <pyarrow.parquet._ParquetDatasetV2 at 0xffff431529a0>}"
      ]
     },
     "execution_count": 18,
     "metadata": {},
     "output_type": "execute_result"
    }
   ],
   "source": [
    "prefix_args = ['sample_group', 'X_train']\n",
    "prefix = parquet_loader.make_prefix(prefix_args)\n",
    "parquet_loader.load_from_s3(client_args, bucket_name='datasets', prefix=prefix)"
   ]
  },
  {
   "cell_type": "markdown",
   "id": "381d9dce-ff91-4bb6-8141-5f01642db68c",
   "metadata": {},
   "source": [
    "# ParquetResolver"
   ]
  },
  {
   "cell_type": "code",
   "execution_count": 21,
   "id": "7b89f839-fd40-4f2c-ad3c-883783f4afc9",
   "metadata": {},
   "outputs": [],
   "source": [
    "from mlapi.celery_app.ml.parquet_resolvers import TimeSeriesResolver"
   ]
  },
  {
   "cell_type": "markdown",
   "id": "615e215a-cec8-431c-b22f-e4383dfc0339",
   "metadata": {},
   "source": [
    "# PreprocessorCreator"
   ]
  },
  {
   "cell_type": "code",
   "execution_count": 13,
   "id": "e817dc1a-66b8-4c13-9265-608518ee9fe0",
   "metadata": {},
   "outputs": [],
   "source": [
    "from mlapi.ml._preprocessor import PreprocessorCreator"
   ]
  },
  {
   "cell_type": "code",
   "execution_count": 14,
   "id": "3897231f-3a62-4ed2-a516-d4c4e64d6cce",
   "metadata": {},
   "outputs": [],
   "source": [
    "group_ids = merger.get_group_ids()\n",
    "timestamp = 'timestamp'\n",
    "preprocessor_creator = PreprocessorCreator(group_ids, timestamp)\n",
    "preprocessor = preprocessor_creator.create_preprocessor()"
   ]
  },
  {
   "cell_type": "markdown",
   "id": "70389956-7106-4498-9349-a0e9e63c19f0",
   "metadata": {},
   "source": [
    "# EstimatorCreator"
   ]
  },
  {
   "cell_type": "code",
   "execution_count": 31,
   "id": "a34158fa-fd8e-47db-b83e-d85e1e1f3d1b",
   "metadata": {},
   "outputs": [],
   "source": [
    "from mlapi.ml._estimator import EstimatorCreator"
   ]
  },
  {
   "cell_type": "code",
   "execution_count": 44,
   "id": "c95c99ac-6935-4bd1-a7fd-5801513dc4ce",
   "metadata": {},
   "outputs": [],
   "source": [
    "estimator_creator = EstimatorCreator(predictor)"
   ]
  },
  {
   "cell_type": "code",
   "execution_count": 45,
   "id": "be95f120-c532-414e-9775-afef93e610a1",
   "metadata": {},
   "outputs": [],
   "source": [
    "features_time_dependence = merger.get_names()"
   ]
  },
  {
   "cell_type": "code",
   "execution_count": 47,
   "id": "b189556a-d18b-4d32-9f69-d30159f22dce",
   "metadata": {},
   "outputs": [],
   "source": [
    "estimator = estimator_creator.create_estimator(group_ids, **features_time_dependence)"
   ]
  },
  {
   "cell_type": "markdown",
   "id": "56ff89f0-476c-45f8-98a7-634939787936",
   "metadata": {},
   "source": [
    "# Forecasting task"
   ]
  },
  {
   "cell_type": "code",
   "execution_count": 40,
   "id": "c1625f85-794f-412f-879d-102912ec2cd7",
   "metadata": {
    "tags": []
   },
   "outputs": [],
   "source": [
    "from mlapi.celery_app.ml.datasources.parquet_loader import S3ParquetLoader, ParquetLoader\n",
    "from mlapi.celery_app.ml.parquet_resolver import make_parquet_resolver\n",
    "from mlapi.celery_app.ml.estimator import EstimatorCreator\n",
    "from mlapi.celery_app.ml.parquet_resolver import TimeSeriesResolver\n",
    "from mlapi.celery_app.ml.preprocessor import PreprocessorCreator\n",
    "from mlapi.celery_app.client_args import ClientArgs\n",
    "from mlapi.celery_app.ml.utils.data import AttrDict\n",
    "from mlapi.celery_app.ml.utils.pandas import duplicate_pandas_column\n",
    "from sklearn.pipeline import Pipeline"
   ]
  },
  {
   "cell_type": "code",
   "execution_count": 32,
   "id": "05508e38-0e1c-4572-b208-5df5d93f1001",
   "metadata": {
    "tags": []
   },
   "outputs": [],
   "source": [
    "from pydantic import BaseModel\n",
    "from typing import Optional\n",
    "\n",
    "\n",
    "class User(BaseModel):\n",
    "    username: str\n",
    "    email: Optional[str] = None\n",
    "    full_name: Optional[str] = None\n",
    "    disabled: Optional[bool] = None\n",
    "    access_key: Optional[str] = None\n",
    "    secret_key: Optional[str] = None\n",
    "    s3_endpoint: Optional[str] = None\n",
    "    \n",
    "\n",
    "class Forecaster(BaseModel):\n",
    "    task_name: str\n",
    "    dataset_group_name: str\n",
    "    dataset_name: str\n",
    "    algorithm: str\n",
    "    forecast_horizon: int\n",
    "    perform_hpo: Optional[bool] = False\n",
    "    inference_folder: Optional[str] = None"
   ]
  },
  {
   "cell_type": "code",
   "execution_count": 57,
   "id": "8299b767-c42b-4f99-aa71-37405b151079",
   "metadata": {},
   "outputs": [],
   "source": [
    "class CreateForecasterTask:\n",
    "    \"\"\"Loads, preprocess and fits data from s3.\n",
    "    \"\"\"\n",
    "\n",
    "    METRICS = ['train_loss']\n",
    "    DATASETS_BUCKET = 'datasets'\n",
    "\n",
    "    def run(self, forecaster_data, user_data):\n",
    "        forecaster = AttrDict(forecaster_data)\n",
    "        user = AttrDict(user_data)\n",
    "\n",
    "        # Load data.\n",
    "        resolved = self._resolve_dataset(forecaster, user)\n",
    "        X = resolved['X']\n",
    "        group_ids = resolved['group_ids']\n",
    "        timestamp = resolved['timestamp']\n",
    "        target = 'target'\n",
    "\n",
    "        # Create both preprocessor and estimator.\n",
    "        preprocessor = self._create_preprocessor(group_ids, target, timestamp)\n",
    "        estimator = self._create_estimator(forecaster, group_ids)\n",
    "        return estimator\n",
    "\n",
    "        # Put everything inside a sklearn Pipeline and fit.\n",
    "        pipeline = self._fit_pipeline(X, preprocessor, estimator)\n",
    "\n",
    "        # Save metrics\n",
    "        logger = MlFlowLogger()\n",
    "        for metric in self.METRICS:\n",
    "            estimator = pipeline['estimator']\n",
    "            history = get_history(estimator, metric)\n",
    "            logger.save_metric(name=metric, values=history)\n",
    "\n",
    "        # Save model the model with a signature that defines the schema of\n",
    "        # the model's inputs and outputs. When the model is deployed, this\n",
    "        # signature will be used to validate inputs.\n",
    "        wrapped_pipeline = wrap_pipeline(pipeline)\n",
    "        signature = infer_signature(X, wrapped_pipeline.predict(None, X))\n",
    "        logger.save_python_model(\n",
    "            name='pipeline', python_model=wrapped_pipeline,\n",
    "            signature=signature,\n",
    "            artifacts=self._create_inference_artifacts(forecaster))\n",
    "\n",
    "        # Log all\n",
    "        logger.log_all()\n",
    "\n",
    "    def _fit_pipeline(self, X, preprocessor, estimator):\n",
    "        \"\"\"Collects both `preprocessor` and `estimator` into a single\n",
    "        :class:`sklearn.pipeline.Pipeline` object and fits X.\n",
    "        \"\"\"\n",
    "        steps = [('preprocessor', preprocessor), ('estimator', estimator)]\n",
    "        pipeline = Pipeline(steps)\n",
    "        pipeline.fit(X)\n",
    "        return pipeline\n",
    "\n",
    "    def _create_estimator(self, forecaster, group_ids, callbacks=None):\n",
    "        \"\"\"Creates time series estimator.\n",
    "        \"\"\"\n",
    "        estimator_creator = EstimatorCreator(forecaster)\n",
    "        target = 'target'\n",
    "        time_varying_unknown_reals = ['target']\n",
    "        time_varying_known_reals = []\n",
    "        static_categoricals = []\n",
    "\n",
    "        estimator = estimator_creator.create_estimator(\n",
    "            group_ids, target, time_varying_known_reals,\n",
    "            time_varying_unknown_reals, static_categoricals,\n",
    "            callbacks=callbacks, time_idx='time_index')\n",
    "        return estimator\n",
    "\n",
    "    def _create_preprocessor(self, group_ids, target, timestamp):\n",
    "        \"\"\"Creates sklearn preprocessor.\n",
    "        \"\"\"\n",
    "        preprocessor_creator = PreprocessorCreator(\n",
    "            group_ids, target, timestamp)\n",
    "        preprocessor = preprocessor_creator.create_preprocessor()\n",
    "        return preprocessor\n",
    "\n",
    "    def _resolve_dataset(self, forecaster, user):\n",
    "        \"\"\"Calls :meth:`resolve` from :class:`TimeSeriesResolver`.\n",
    "\n",
    "        Returns\n",
    "        -------\n",
    "        dict : str -> obj\n",
    "        \"\"\"\n",
    "        client_args = {\n",
    "            \"s3_endpoint\": user.s3_endpoint,\n",
    "            \"access_key\": user.access_key,\n",
    "            \"secret_key\": user.secret_key,\n",
    "            'secure': False\n",
    "        }\n",
    "        client_args = ClientArgs(**client_args)\n",
    "        parquet_loader = S3ParquetLoader(client_args)\n",
    "\n",
    "        # Parquet loading.\n",
    "        bucket_name = self.DATASETS_BUCKET\n",
    "        prefix = [forecaster.dataset_group_name, forecaster.dataset_name]\n",
    "        datasets = parquet_loader.load_many(bucket_name, *prefix)\n",
    "\n",
    "        timeseries_resolver = TimeSeriesResolver(**datasets)\n",
    "        return timeseries_resolver.resolve()\n",
    "\n",
    "    def _create_inference_artifacts(self, forecaster):\n",
    "        bucket = 'datasets'\n",
    "        dataset_group_name = forecaster.dataset_group_name\n",
    "        inference_path = \"s3://{}/{}/inference/\".format(bucket,\n",
    "                                                        dataset_group_name)\n",
    "        return {\"inference\": inference_path}"
   ]
  },
  {
   "cell_type": "code",
   "execution_count": 58,
   "id": "36691fdb-bde4-4e7c-a150-588de4366daa",
   "metadata": {},
   "outputs": [],
   "source": [
    "user_kwargs = {\n",
    "    \"username\": \"johndoe\",\n",
    "    \"full_name\": \"John Doe\",\n",
    "    \"email\": \"johndoe@example.com\",\n",
    "    \"hashed_password\": \"$2b$12$EixZaYVK1fsbw1ZfbX3OXePaWxn96p36WQoeG6Lruj3vjPGga31lW\",\n",
    "    \"access_key\": \"johndoe\",\n",
    "    \"secret_key\": \"password\",\n",
    "    \"s3_endpoint\": \"minio:9000\"\n",
    "}\n",
    "user = User(**user_kwargs)\n",
    "\n",
    "forecaster_kwargs = {\n",
    "    'task_name': 'seq2seq_training',\n",
    "    'dataset_group_name': 'sample_group',\n",
    "    'dataset_name': 'X_train',\n",
    "    'algorithm': 'seq2seq',\n",
    "    'forecast_horizon': 10,\n",
    "    'perform_hpo': False,\n",
    "}\n",
    "forecaster = Forecaster(**forecaster_kwargs)"
   ]
  },
  {
   "cell_type": "code",
   "execution_count": 61,
   "id": "7e929452-1901-4b3c-ac7d-38e422a95531",
   "metadata": {},
   "outputs": [],
   "source": [
    "estimator = CreateForecasterTask().run(forecaster, user)"
   ]
  },
  {
   "cell_type": "code",
   "execution_count": 67,
   "id": "401e38a8-6913-4bf5-bbe4-3bc448be20a6",
   "metadata": {},
   "outputs": [
    {
     "data": {
      "text/plain": [
       "64"
      ]
     },
     "execution_count": 67,
     "metadata": {},
     "output_type": "execute_result"
    }
   ],
   "source": []
  },
  {
   "cell_type": "code",
   "execution_count": 81,
   "id": "09feaa0d-f8d7-4ea7-afe4-8895280f4695",
   "metadata": {},
   "outputs": [
    {
     "data": {
      "text/plain": [
       "'RMSE'"
      ]
     },
     "execution_count": 81,
     "metadata": {},
     "output_type": "execute_result"
    }
   ],
   "source": [
    "estimator.get_params()['criterion'].__name__"
   ]
  },
  {
   "cell_type": "code",
   "execution_count": 82,
   "id": "afeb56cd-9fb7-430c-903c-ee45693c3e96",
   "metadata": {},
   "outputs": [],
   "source": [
    "def get_estimator_params(estimator):\n",
    "    allowed_types = (int, str, float, list)\n",
    "    \n",
    "    params = {}\n",
    "    for k, v in estimator.get_params().items():\n",
    "        if isinstance(v, allowed_types) or v is None:\n",
    "            params[k] = v\n",
    "        else:\n",
    "            params[k] = v.__name__\n",
    "            \n",
    "    return params\n",
    "            \n",
    "            "
   ]
  },
  {
   "cell_type": "code",
   "execution_count": 83,
   "id": "effeaf54-d271-4bb8-9e68-ab10c34e8cc1",
   "metadata": {},
   "outputs": [
    {
     "data": {
      "text/plain": [
       "{'batch_size': 64,\n",
       " 'callbacks': None,\n",
       " 'cell_type': 'lstm',\n",
       " 'criterion': 'RMSE',\n",
       " 'cv_split': 1,\n",
       " 'device': 'cpu',\n",
       " 'emb_dim': 10,\n",
       " 'group_ids': ['group_id__0', 'group_id__1'],\n",
       " 'hidden_size': 16,\n",
       " 'lr': 1e-05,\n",
       " 'max_encoder_length': 5,\n",
       " 'max_epochs': 2,\n",
       " 'max_prediction_length': 10,\n",
       " 'min_encoder_length': None,\n",
       " 'optimizer': 'Adam',\n",
       " 'static_categoricals': [],\n",
       " 'target': 'target',\n",
       " 'tf_ratio': 0.2,\n",
       " 'time_idx': 'time_index',\n",
       " 'time_varying_known_reals': [],\n",
       " 'time_varying_unknown_reals': ['target'],\n",
       " 'verbose': 1}"
      ]
     },
     "execution_count": 83,
     "metadata": {},
     "output_type": "execute_result"
    }
   ],
   "source": [
    "get_estimator_params(estimator)"
   ]
  },
  {
   "cell_type": "code",
   "execution_count": 68,
   "id": "6ce8b7c2-03ac-4202-ad7e-9a31795ccc90",
   "metadata": {},
   "outputs": [
    {
     "ename": "AttributeError",
     "evalue": "type object 'ABCMeta' has no attribute '___name___'",
     "output_type": "error",
     "traceback": [
      "\u001b[0;31m---------------------------------------------------------------------------\u001b[0m",
      "\u001b[0;31mAttributeError\u001b[0m                            Traceback (most recent call last)",
      "Input \u001b[0;32mIn [68]\u001b[0m, in \u001b[0;36m<cell line: 2>\u001b[0;34m()\u001b[0m\n\u001b[1;32m      6\u001b[0m     \u001b[38;5;28;01mcontinue\u001b[39;00m\n\u001b[1;32m      7\u001b[0m \u001b[38;5;28;01melif\u001b[39;00m \u001b[38;5;129;01mnot\u001b[39;00m \u001b[38;5;28misinstance\u001b[39m(v, \u001b[38;5;28mstr\u001b[39m):\n\u001b[0;32m----> 8\u001b[0m     v \u001b[38;5;241m=\u001b[39m \u001b[43mv\u001b[49m\u001b[38;5;241;43m.\u001b[39;49m\u001b[38;5;18;43m__class__\u001b[39;49m\u001b[38;5;241;43m.\u001b[39;49m\u001b[43m___name___\u001b[49m\n\u001b[1;32m     10\u001b[0m params[k] \u001b[38;5;241m=\u001b[39m v\n",
      "\u001b[0;31mAttributeError\u001b[0m: type object 'ABCMeta' has no attribute '___name___'"
     ]
    }
   ],
   "source": [
    "params = {}\n",
    "for k, v in estimator.get_params().items():\n",
    "    if v is None:\n",
    "        continue\n",
    "    elif isinstance(v, (float, int, list)):\n",
    "        continue\n",
    "    elif not isinstance(v, str):\n",
    "        v = v.__class__.___name___\n",
    "        \n",
    "    params[k] = v\n",
    "        \n",
    "    "
   ]
  },
  {
   "cell_type": "markdown",
   "id": "49f8fce9-59d2-4dc4-85a5-21cbb18c38b1",
   "metadata": {},
   "source": [
    "# PredictTask "
   ]
  },
  {
   "cell_type": "code",
   "execution_count": 49,
   "id": "a50f8af7-f687-48ec-bd73-56131b995d73",
   "metadata": {},
   "outputs": [],
   "source": [
    "from mlapi.celery_app.ml.datasources.parquet_loader import S3ParquetLoader\n",
    "from mlapi.celery_app.ml.parquet_resolver import make_parquet_resolver\n",
    "import mlflow"
   ]
  },
  {
   "cell_type": "code",
   "execution_count": 34,
   "id": "7e770972-0f75-4f73-a8cd-23b8498b4f4e",
   "metadata": {},
   "outputs": [],
   "source": [
    "class Prediction(BaseModel):\n",
    "    model_name: str\n",
    "    datataset_group_name : str\n",
    "    dataset_name: str"
   ]
  },
  {
   "cell_type": "code",
   "execution_count": 35,
   "id": "0b9ae694-99aa-4b50-9f19-4f54bb6f3b69",
   "metadata": {},
   "outputs": [],
   "source": [
    "prediction = Prediction(model_name='model B', datataset_group_name='sample_group', dataset_name='X_test')"
   ]
  },
  {
   "cell_type": "code",
   "execution_count": 39,
   "id": "e46f7c50-0946-4d61-90bd-b29bfbab0d84",
   "metadata": {},
   "outputs": [],
   "source": [
    "# Load parquet\n",
    "\n",
    "\n",
    "client_args = {\n",
    "    \"s3_endpoint\": 'minio:9000',\n",
    "    \"access_key\": 'user',\n",
    "    \"secret_key\": 'password',\n",
    "    'secure': False\n",
    "}\n",
    "client_args = ClientArgs(**client_args)\n",
    "s3_parquet_loader = S3ParquetLoader(client_args)\n",
    "bucket_name = 'datasets'\n",
    "args = ['sample_group', 'X_test']\n",
    "datasets = s3_parquet_loader.load_many(bucket_name, *args)"
   ]
  },
  {
   "cell_type": "code",
   "execution_count": 48,
   "id": "3ebba6eb-2643-4845-9d9b-cb7503575dd9",
   "metadata": {},
   "outputs": [],
   "source": [
    "# Parquet resolver\n",
    "\n",
    "parquet_resolver = make_parquet_resolver('timeseries_resolver', **datasets)\n",
    "resolved = parquet_resolver.resolve()\n",
    "model_input = resolved['X']"
   ]
  },
  {
   "cell_type": "code",
   "execution_count": 53,
   "id": "48f6ebfe-b6c4-4a79-9e12-8d0de1ab2bd2",
   "metadata": {},
   "outputs": [],
   "source": [
    "# Load model\n",
    "\n",
    "\n",
    "model_name = \"model B\"\n",
    "model = mlflow.pyfunc.load_model(f\"models:/{model_name}/production\")"
   ]
  },
  {
   "cell_type": "code",
   "execution_count": 54,
   "id": "ef2956b9-f962-4304-93e1-9458e0ccbe04",
   "metadata": {},
   "outputs": [
    {
     "data": {
      "text/html": [
       "<div>\n",
       "<style scoped>\n",
       "    .dataframe tbody tr th:only-of-type {\n",
       "        vertical-align: middle;\n",
       "    }\n",
       "\n",
       "    .dataframe tbody tr th {\n",
       "        vertical-align: top;\n",
       "    }\n",
       "\n",
       "    .dataframe thead th {\n",
       "        text-align: right;\n",
       "    }\n",
       "</style>\n",
       "<table border=\"1\" class=\"dataframe\">\n",
       "  <thead>\n",
       "    <tr style=\"text-align: right;\">\n",
       "      <th></th>\n",
       "      <th>target</th>\n",
       "      <th>group_id__0</th>\n",
       "      <th>group_id__1</th>\n",
       "      <th>timestamp</th>\n",
       "    </tr>\n",
       "  </thead>\n",
       "  <tbody>\n",
       "    <tr>\n",
       "      <th>0</th>\n",
       "      <td>32.313187</td>\n",
       "      <td>10</td>\n",
       "      <td>13</td>\n",
       "      <td>2017-08-04</td>\n",
       "    </tr>\n",
       "    <tr>\n",
       "      <th>1</th>\n",
       "      <td>32.294296</td>\n",
       "      <td>10</td>\n",
       "      <td>13</td>\n",
       "      <td>2017-08-05</td>\n",
       "    </tr>\n",
       "    <tr>\n",
       "      <th>2</th>\n",
       "      <td>32.171860</td>\n",
       "      <td>10</td>\n",
       "      <td>13</td>\n",
       "      <td>2017-08-06</td>\n",
       "    </tr>\n",
       "    <tr>\n",
       "      <th>3</th>\n",
       "      <td>32.499073</td>\n",
       "      <td>10</td>\n",
       "      <td>13</td>\n",
       "      <td>2017-08-07</td>\n",
       "    </tr>\n",
       "    <tr>\n",
       "      <th>4</th>\n",
       "      <td>32.049793</td>\n",
       "      <td>10</td>\n",
       "      <td>13</td>\n",
       "      <td>2017-08-08</td>\n",
       "    </tr>\n",
       "    <tr>\n",
       "      <th>...</th>\n",
       "      <td>...</td>\n",
       "      <td>...</td>\n",
       "      <td>...</td>\n",
       "      <td>...</td>\n",
       "    </tr>\n",
       "    <tr>\n",
       "      <th>6095</th>\n",
       "      <td>14.587556</td>\n",
       "      <td>9</td>\n",
       "      <td>28</td>\n",
       "      <td>2017-11-29</td>\n",
       "    </tr>\n",
       "    <tr>\n",
       "      <th>6096</th>\n",
       "      <td>14.177453</td>\n",
       "      <td>9</td>\n",
       "      <td>28</td>\n",
       "      <td>2017-11-30</td>\n",
       "    </tr>\n",
       "    <tr>\n",
       "      <th>6097</th>\n",
       "      <td>13.946572</td>\n",
       "      <td>9</td>\n",
       "      <td>28</td>\n",
       "      <td>2017-12-01</td>\n",
       "    </tr>\n",
       "    <tr>\n",
       "      <th>6098</th>\n",
       "      <td>13.820908</td>\n",
       "      <td>9</td>\n",
       "      <td>28</td>\n",
       "      <td>2017-12-02</td>\n",
       "    </tr>\n",
       "    <tr>\n",
       "      <th>6099</th>\n",
       "      <td>13.756701</td>\n",
       "      <td>9</td>\n",
       "      <td>28</td>\n",
       "      <td>2017-12-03</td>\n",
       "    </tr>\n",
       "  </tbody>\n",
       "</table>\n",
       "<p>6100 rows × 4 columns</p>\n",
       "</div>"
      ],
      "text/plain": [
       "         target group_id__0 group_id__1  timestamp\n",
       "0     32.313187          10          13 2017-08-04\n",
       "1     32.294296          10          13 2017-08-05\n",
       "2     32.171860          10          13 2017-08-06\n",
       "3     32.499073          10          13 2017-08-07\n",
       "4     32.049793          10          13 2017-08-08\n",
       "...         ...         ...         ...        ...\n",
       "6095  14.587556           9          28 2017-11-29\n",
       "6096  14.177453           9          28 2017-11-30\n",
       "6097  13.946572           9          28 2017-12-01\n",
       "6098  13.820908           9          28 2017-12-02\n",
       "6099  13.756701           9          28 2017-12-03\n",
       "\n",
       "[6100 rows x 4 columns]"
      ]
     },
     "execution_count": 54,
     "metadata": {},
     "output_type": "execute_result"
    }
   ],
   "source": [
    "model.predict(model_input)"
   ]
  },
  {
   "cell_type": "code",
   "execution_count": null,
   "id": "50d6166f-c56d-49c6-b863-678ee347e6fc",
   "metadata": {},
   "outputs": [],
   "source": [
    "class PredictTask:\n",
    "    def run()"
   ]
  }
 ],
 "metadata": {
  "kernelspec": {
   "display_name": "Python 3 (ipykernel)",
   "language": "python",
   "name": "python3"
  },
  "language_info": {
   "codemirror_mode": {
    "name": "ipython",
    "version": 3
   },
   "file_extension": ".py",
   "mimetype": "text/x-python",
   "name": "python",
   "nbconvert_exporter": "python",
   "pygments_lexer": "ipython3",
   "version": "3.9.12"
  }
 },
 "nbformat": 4,
 "nbformat_minor": 5
}
