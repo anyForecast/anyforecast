{
 "cells": [
  {
   "cell_type": "code",
   "execution_count": 1,
   "id": "222c977b-26b2-43ee-926e-24b644b4d9aa",
   "metadata": {},
   "outputs": [],
   "source": [
    "# Add client package to sys path\n",
    "\n",
    "MLAPI_PATH = '/home/jovyan/mlapi'\n",
    "\n",
    "import sys\n",
    "\n",
    "if MLAPI_PATH not in sys.path:\n",
    "    sys.path.append(MLAPI_PATH)"
   ]
  },
  {
   "cell_type": "code",
   "execution_count": 2,
   "id": "b40c711d-40f2-4512-af09-32293482592c",
   "metadata": {},
   "outputs": [],
   "source": [
    "%load_ext autoreload\n",
    "%autoreload 2"
   ]
  },
  {
   "cell_type": "code",
   "execution_count": 3,
   "id": "58ef320d-73c1-4ce1-bb55-cc509ebf7c07",
   "metadata": {},
   "outputs": [],
   "source": [
    "data = {\n",
    "    'name': 'sample',\n",
    "    'algorithm': 'seq2seq',\n",
    "    'forecast_horizon': 10,\n",
    "    'perform_hpo': False,\n",
    "    'bucket_name': 'sample'\n",
    "}"
   ]
  },
  {
   "cell_type": "code",
   "execution_count": 4,
   "id": "570037c9-699b-41ae-a4b6-1d8ba7d74e6d",
   "metadata": {},
   "outputs": [],
   "source": [
    "import requests"
   ]
  },
  {
   "cell_type": "code",
   "execution_count": 5,
   "id": "3ba1b594-02ff-443d-861f-90a4a742cd20",
   "metadata": {},
   "outputs": [],
   "source": [
    "url = 'http://mlapi:80/forecast'\n",
    "response = requests.post(url, json=data)"
   ]
  },
  {
   "cell_type": "code",
   "execution_count": 7,
   "id": "4c426514-569e-48a6-8aa1-c05409317d02",
   "metadata": {},
   "outputs": [
    {
     "data": {
      "text/plain": [
       "<Response [200]>"
      ]
     },
     "execution_count": 7,
     "metadata": {},
     "output_type": "execute_result"
    }
   ],
   "source": [
    "response"
   ]
  },
  {
   "cell_type": "code",
   "execution_count": 8,
   "id": "15acaeab-a3e3-44c5-9b4d-54f018607799",
   "metadata": {},
   "outputs": [],
   "source": [
    "from requests import Session"
   ]
  },
  {
   "cell_type": "code",
   "execution_count": 9,
   "id": "b6f203d7-33a6-45ea-99f6-fe3051cfd9a4",
   "metadata": {},
   "outputs": [],
   "source": [
    "s = Session()"
   ]
  },
  {
   "cell_type": "code",
   "execution_count": 11,
   "id": "3b8030b5-28f6-4160-9781-a1463111051c",
   "metadata": {},
   "outputs": [
    {
     "data": {
      "text/plain": [
       "<Response [422]>"
      ]
     },
     "execution_count": 11,
     "metadata": {},
     "output_type": "execute_result"
    }
   ],
   "source": [
    "s.post(url, data=data)"
   ]
  }
 ],
 "metadata": {
  "kernelspec": {
   "display_name": "Python 3 (ipykernel)",
   "language": "python",
   "name": "python3"
  },
  "language_info": {
   "codemirror_mode": {
    "name": "ipython",
    "version": 3
   },
   "file_extension": ".py",
   "mimetype": "text/x-python",
   "name": "python",
   "nbconvert_exporter": "python",
   "pygments_lexer": "ipython3",
   "version": "3.9.10"
  }
 },
 "nbformat": 4,
 "nbformat_minor": 5
}
