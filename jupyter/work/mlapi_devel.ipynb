{
 "cells": [
  {
   "cell_type": "code",
   "execution_count": 1,
   "id": "222c977b-26b2-43ee-926e-24b644b4d9aa",
   "metadata": {},
   "outputs": [],
   "source": [
    "# Add client package to sys path\n",
    "\n",
    "MLAPI_PATH = '/home/jovyan/mlapi'\n",
    "\n",
    "import sys\n",
    "\n",
    "if MLAPI_PATH not in sys.path:\n",
    "    sys.path.append(MLAPI_PATH)"
   ]
  },
  {
   "cell_type": "code",
   "execution_count": 2,
   "id": "8f5aabd7-6809-45be-9c42-e0599d625e6b",
   "metadata": {},
   "outputs": [],
   "source": [
    "import requests"
   ]
  },
  {
   "cell_type": "code",
   "execution_count": 3,
   "id": "b40c711d-40f2-4512-af09-32293482592c",
   "metadata": {},
   "outputs": [],
   "source": [
    "%load_ext autoreload\n",
    "%autoreload 2"
   ]
  },
  {
   "cell_type": "markdown",
   "id": "613f0d19-55a5-43c6-9010-2b1917cbbae1",
   "metadata": {},
   "source": [
    "# ParquetGetter"
   ]
  },
  {
   "cell_type": "code",
   "execution_count": 4,
   "id": "68173364-09ee-4afc-b54f-b410173dfbe8",
   "metadata": {},
   "outputs": [],
   "source": [
    "from mlapi.celery_task_app.parquet import ParquetGetter\n",
    "from minio import Minio"
   ]
  },
  {
   "cell_type": "code",
   "execution_count": 13,
   "id": "5441f854-7901-438f-8792-a5d35e604e67",
   "metadata": {},
   "outputs": [],
   "source": [
    "# Client args (authentication)\n",
    "client_args = {\n",
    "    \"endpoint\": 'minio:9000',\n",
    "    \"access_key\": 'oxxo',\n",
    "    \"secret_key\": 'password',\n",
    "    'secure': False\n",
    "}\n",
    "minio_client = Minio(**client_args)\n",
    "\n",
    "# Dummy request.\n",
    "data = {\n",
    "    'name': 'sample',\n",
    "    'algorithm': 'seq2seq',\n",
    "    'forecast_horizon': 10,\n",
    "    'perform_hpo': False,\n",
    "    'bucket_name': 'sample'\n",
    "}\n",
    "predictor = Forecaster(**data)\n",
    "\n",
    "\n",
    "# Parquet getter: getter for parquet datasets stored in minio buckets.\n",
    "parquet_getter = ParquetGetter(\n",
    "    'sample', \n",
    "    minio_client=minio_client\n",
    ")"
   ]
  },
  {
   "cell_type": "code",
   "execution_count": null,
   "id": "74a3fd1f-dcc5-43cc-ba21-751e68961f09",
   "metadata": {},
   "outputs": [],
   "source": [
    "minio_client."
   ]
  },
  {
   "cell_type": "markdown",
   "id": "56ff89f0-476c-45f8-98a7-634939787936",
   "metadata": {},
   "source": [
    "# Forecasting task"
   ]
  },
  {
   "cell_type": "code",
   "execution_count": 4,
   "id": "e987cb68-c73b-4f7e-a15f-1ec7b5c53c9b",
   "metadata": {},
   "outputs": [],
   "source": [
    "from mlapi.celery_task_app.forecasting import PreprocessorCreator\n",
    "from mlapi.celery_task_app.forecasting import EstimatorCreator\n",
    "from mlapi.celery_task_app.forecasting import TimeSeriesMerger\n",
    "from mlapi.models import Forecaster"
   ]
  },
  {
   "cell_type": "code",
   "execution_count": 9,
   "id": "a220f214-bd56-4162-810a-6374d691578a",
   "metadata": {},
   "outputs": [],
   "source": [
    "# Create data merger.\n",
    "resolved = parquet_getter.resolve_datasets()\n",
    "merger = TimeSeriesMerger(**resolved)\n",
    "\n",
    "# Create preprocessor.\n",
    "group_ids = merger.get_group_ids()\n",
    "preprocessor = PreprocessorCreator(group_ids).create_preprocessor()\n",
    "\n",
    "# Create estimator\n",
    "estimator = EstimatorCreator(predictor, merger).create_estimator()"
   ]
  },
  {
   "cell_type": "code",
   "execution_count": 10,
   "id": "6692fdc2-ed6d-49f4-a501-89b9915cb902",
   "metadata": {},
   "outputs": [],
   "source": [
    "X = merger.merge()"
   ]
  },
  {
   "cell_type": "code",
   "execution_count": 11,
   "id": "c9aedbf8-d8e3-48ad-8edd-7368b796c736",
   "metadata": {},
   "outputs": [
    {
     "data": {
      "text/html": [
       "<div>\n",
       "<style scoped>\n",
       "    .dataframe tbody tr th:only-of-type {\n",
       "        vertical-align: middle;\n",
       "    }\n",
       "\n",
       "    .dataframe tbody tr th {\n",
       "        vertical-align: top;\n",
       "    }\n",
       "\n",
       "    .dataframe thead th {\n",
       "        text-align: right;\n",
       "    }\n",
       "</style>\n",
       "<table border=\"1\" class=\"dataframe\">\n",
       "  <thead>\n",
       "    <tr style=\"text-align: right;\">\n",
       "      <th></th>\n",
       "      <th>target</th>\n",
       "      <th>group_id_0</th>\n",
       "      <th>group_id_1</th>\n",
       "      <th>timestamp</th>\n",
       "    </tr>\n",
       "  </thead>\n",
       "  <tbody>\n",
       "    <tr>\n",
       "      <th>0</th>\n",
       "      <td>0.105960</td>\n",
       "      <td>10</td>\n",
       "      <td>13</td>\n",
       "      <td>2013-01-01</td>\n",
       "    </tr>\n",
       "    <tr>\n",
       "      <th>1</th>\n",
       "      <td>0.178808</td>\n",
       "      <td>10</td>\n",
       "      <td>13</td>\n",
       "      <td>2013-01-02</td>\n",
       "    </tr>\n",
       "    <tr>\n",
       "      <th>2</th>\n",
       "      <td>0.039735</td>\n",
       "      <td>10</td>\n",
       "      <td>13</td>\n",
       "      <td>2013-01-03</td>\n",
       "    </tr>\n",
       "    <tr>\n",
       "      <th>3</th>\n",
       "      <td>0.158940</td>\n",
       "      <td>10</td>\n",
       "      <td>13</td>\n",
       "      <td>2013-01-04</td>\n",
       "    </tr>\n",
       "    <tr>\n",
       "      <th>4</th>\n",
       "      <td>0.165563</td>\n",
       "      <td>10</td>\n",
       "      <td>13</td>\n",
       "      <td>2013-01-05</td>\n",
       "    </tr>\n",
       "    <tr>\n",
       "      <th>...</th>\n",
       "      <td>...</td>\n",
       "      <td>...</td>\n",
       "      <td>...</td>\n",
       "      <td>...</td>\n",
       "    </tr>\n",
       "    <tr>\n",
       "      <th>91295</th>\n",
       "      <td>0.220238</td>\n",
       "      <td>9</td>\n",
       "      <td>28</td>\n",
       "      <td>2017-12-27</td>\n",
       "    </tr>\n",
       "    <tr>\n",
       "      <th>91296</th>\n",
       "      <td>0.303571</td>\n",
       "      <td>9</td>\n",
       "      <td>28</td>\n",
       "      <td>2017-12-28</td>\n",
       "    </tr>\n",
       "    <tr>\n",
       "      <th>91297</th>\n",
       "      <td>0.404762</td>\n",
       "      <td>9</td>\n",
       "      <td>28</td>\n",
       "      <td>2017-12-29</td>\n",
       "    </tr>\n",
       "    <tr>\n",
       "      <th>91298</th>\n",
       "      <td>0.380952</td>\n",
       "      <td>9</td>\n",
       "      <td>28</td>\n",
       "      <td>2017-12-30</td>\n",
       "    </tr>\n",
       "    <tr>\n",
       "      <th>91299</th>\n",
       "      <td>0.398810</td>\n",
       "      <td>9</td>\n",
       "      <td>28</td>\n",
       "      <td>2017-12-31</td>\n",
       "    </tr>\n",
       "  </tbody>\n",
       "</table>\n",
       "<p>91300 rows × 4 columns</p>\n",
       "</div>"
      ],
      "text/plain": [
       "         target group_id_0 group_id_1  timestamp\n",
       "0      0.105960         10         13 2013-01-01\n",
       "1      0.178808         10         13 2013-01-02\n",
       "2      0.039735         10         13 2013-01-03\n",
       "3      0.158940         10         13 2013-01-04\n",
       "4      0.165563         10         13 2013-01-05\n",
       "...         ...        ...        ...        ...\n",
       "91295  0.220238          9         28 2017-12-27\n",
       "91296  0.303571          9         28 2017-12-28\n",
       "91297  0.404762          9         28 2017-12-29\n",
       "91298  0.380952          9         28 2017-12-30\n",
       "91299  0.398810          9         28 2017-12-31\n",
       "\n",
       "[91300 rows x 4 columns]"
      ]
     },
     "execution_count": 11,
     "metadata": {},
     "output_type": "execute_result"
    }
   ],
   "source": [
    "preprocessor.fit_transform(X)"
   ]
  },
  {
   "cell_type": "code",
   "execution_count": null,
   "id": "ae1b3f7e-246d-44ae-b945-e66cfcbb9c63",
   "metadata": {},
   "outputs": [],
   "source": []
  }
 ],
 "metadata": {
  "kernelspec": {
   "display_name": "Python 3 (ipykernel)",
   "language": "python",
   "name": "python3"
  },
  "language_info": {
   "codemirror_mode": {
    "name": "ipython",
    "version": 3
   },
   "file_extension": ".py",
   "mimetype": "text/x-python",
   "name": "python",
   "nbconvert_exporter": "python",
   "pygments_lexer": "ipython3",
   "version": "3.9.10"
  }
 },
 "nbformat": 4,
 "nbformat_minor": 5
}
