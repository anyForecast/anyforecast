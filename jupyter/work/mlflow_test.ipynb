{
 "cells": [
  {
   "cell_type": "code",
   "execution_count": 1,
   "id": "88ef59db",
   "metadata": {},
   "outputs": [],
   "source": [
    "import mlflow\n",
    "from mlflow.tracking import MlflowClient"
   ]
  },
  {
   "cell_type": "code",
   "execution_count": 2,
   "id": "258f45fa-c4ad-4413-b9e6-e70d5d42224f",
   "metadata": {},
   "outputs": [
    {
     "data": {
      "text/plain": [
       "'1.25.1'"
      ]
     },
     "execution_count": 2,
     "metadata": {},
     "output_type": "execute_result"
    }
   ],
   "source": [
    "mlflow.__version__"
   ]
  },
  {
   "cell_type": "code",
   "execution_count": 2,
   "id": "5be64380",
   "metadata": {},
   "outputs": [
    {
     "data": {
      "text/plain": [
       "[<Experiment: artifact_location='s3://default/0', experiment_id='0', lifecycle_stage='active', name='Default', tags={}>,\n",
       " <Experiment: artifact_location='s3://default/1', experiment_id='1', lifecycle_stage='active', name='sample_experiment', tags={}>]"
      ]
     },
     "execution_count": 2,
     "metadata": {},
     "output_type": "execute_result"
    }
   ],
   "source": [
    "# Create new experiment and see list of experiments\n",
    "\n",
    "mlflow.create_experiment('sample_experiment')  # choose a unique name\n",
    "client = MlflowClient()\n",
    "experiments = client.list_experiments() # returns a list of mlflow.entities.Experiment\n",
    "experiments "
   ]
  },
  {
   "cell_type": "code",
   "execution_count": 23,
   "id": "8d3b693c-4b0f-4fc8-9907-b48345347be3",
   "metadata": {},
   "outputs": [
    {
     "data": {
      "text/plain": [
       "'1'"
      ]
     },
     "execution_count": 23,
     "metadata": {},
     "output_type": "execute_result"
    }
   ],
   "source": [
    "client.get_experiment_by_name('sample_experiment').experiment_id"
   ]
  },
  {
   "cell_type": "code",
   "execution_count": 3,
   "id": "bb03239f",
   "metadata": {},
   "outputs": [],
   "source": [
    "# Log sample param\n",
    "\n",
    "run = client.create_run(experiments[0].experiment_id) # returns mlflow.entities.Run\n",
    "client.log_param(run.info.run_uuid, \"hello\", \"world\")\n",
    "client.set_terminated(run.info.run_uuid)"
   ]
  },
  {
   "cell_type": "code",
   "execution_count": 24,
   "id": "2a06e0fe",
   "metadata": {},
   "outputs": [],
   "source": [
    "# Create new run and log sample param and metrc\n",
    "\n",
    "with mlflow.start_run(experiment_id='1'):\n",
    "    mlflow.log_param(\"a\", 1)\n",
    "    mlflow.log_metric(\"b\", 2)"
   ]
  },
  {
   "cell_type": "code",
   "execution_count": 18,
   "id": "10c899e4",
   "metadata": {},
   "outputs": [],
   "source": [
    "# Create new run and log sample params and sin and cosine metrics\n",
    "\n",
    "import numpy as np\n",
    "import matplotlib.pyplot as plt\n",
    "\n",
    "x = np.linspace(-np.pi, np.pi, 100)\n",
    "sin = np.sin(x)\n",
    "cos = np.cos(x)\n",
    "\n",
    "\n",
    "with mlflow.start_run():\n",
    "    mlflow.log_param(\"name\", 'sine test')\n",
    "    mlflow.log_param(\"mood\", 'great')\n",
    "    mlflow.log_param(\"weather\", 'sunny')\n",
    "    \n",
    "    for i, value in enumerate(sin):\n",
    "        mlflow.log_metric(\"sine\", value, step=i)\n",
    "    for i, value in enumerate(cos):\n",
    "        mlflow.log_metric(\"cosine\", value, step=i)"
   ]
  },
  {
   "cell_type": "code",
   "execution_count": 11,
   "id": "50d7e2fd-7dec-4492-ba1c-71b28d0a26b4",
   "metadata": {},
   "outputs": [
    {
     "data": {
      "text/plain": [
       "'s3://default/0/920cb6ef19fe45729f968d73161568a1/artifacts'"
      ]
     },
     "execution_count": 11,
     "metadata": {},
     "output_type": "execute_result"
    }
   ],
   "source": [
    "mlflow.get_artifact_uri()"
   ]
  },
  {
   "cell_type": "code",
   "execution_count": 13,
   "id": "c2537026",
   "metadata": {},
   "outputs": [],
   "source": [
    "# (Optional) Test minIO artifact storage\n",
    "\n",
    "features = \"rooms, zipcode, median_price, school_rating, transport\"\n",
    "with open(\"features.txt\", 'w') as f:\n",
    "    f.write(features)\n",
    "\n",
    "# Log the artifact in a directory \"features\"\n",
    "mlflow.end_run()\n",
    "with mlflow.start_run():\n",
    "    mlflow.log_artifact(\"features.txt\", artifact_path=\"features\")"
   ]
  },
  {
   "cell_type": "code",
   "execution_count": null,
   "id": "1082309f-f3f6-4ec9-af5f-3129ff5b3588",
   "metadata": {},
   "outputs": [],
   "source": []
  }
 ],
 "metadata": {
  "kernelspec": {
   "display_name": "Python 3 (ipykernel)",
   "language": "python",
   "name": "python3"
  },
  "language_info": {
   "codemirror_mode": {
    "name": "ipython",
    "version": 3
   },
   "file_extension": ".py",
   "mimetype": "text/x-python",
   "name": "python",
   "nbconvert_exporter": "python",
   "pygments_lexer": "ipython3",
   "version": "3.9.10"
  }
 },
 "nbformat": 4,
 "nbformat_minor": 5
}
